{
 "cells": [
  {
   "cell_type": "code",
   "execution_count": 1,
   "id": "81fa12b2",
   "metadata": {},
   "outputs": [
    {
     "data": {
      "text/plain": [
       "'\\nCustomer Personality Analysis is a detailed analysis of a company’s ideal customers.\\nIt helps a business to better understand its customers and makes it easier for them to modify products according to the \\nspecific needs, behaviors and concerns of different types of customers.\\nCustomer personality analysis helps a business to modify its product based on its target customers from different types of \\ncustomer segments. For example, instead of spending money to market a new product to every customer in the company’s \\ndatabase, a company can analyze which customer segment is most likely to buy the product and then market the product \\nonly on that particular segment.\\n'"
      ]
     },
     "execution_count": 1,
     "metadata": {},
     "output_type": "execute_result"
    }
   ],
   "source": [
    "'''\n",
    "Customer Personality Analysis is a detailed analysis of a company’s ideal customers.\n",
    "It helps a business to better understand its customers and makes it easier for them to modify products according to the \n",
    "specific needs, behaviors and concerns of different types of customers.\n",
    "Customer personality analysis helps a business to modify its product based on its target customers from different types of \n",
    "customer segments. For example, instead of spending money to market a new product to every customer in the company’s \n",
    "database, a company can analyze which customer segment is most likely to buy the product and then market the product \n",
    "only on that particular segment.\n",
    "'''"
   ]
  },
  {
   "cell_type": "code",
   "execution_count": 2,
   "id": "33caf5c4",
   "metadata": {},
   "outputs": [],
   "source": [
    "#Importing Libaries\n",
    "import numpy as np      #Linear algebra\n",
    "import pandas as pd     #Data Processing,CSV files I/O\n",
    "import matplotlib.pyplot as plt    #Visyalisation of Data\n",
    "import seaborn as sns"
   ]
  },
  {
   "cell_type": "code",
   "execution_count": 3,
   "id": "cc71fa49",
   "metadata": {},
   "outputs": [],
   "source": [
    "#Uploading Dataset\n",
    "df=pd.read_csv(\"C:/Users/LENOVO/OneDrive/Desktop/Data Science/Customer.csv\")"
   ]
  },
  {
   "cell_type": "code",
   "execution_count": 4,
   "id": "7cbaf0f0",
   "metadata": {},
   "outputs": [
    {
     "data": {
      "text/html": [
       "<div>\n",
       "<style scoped>\n",
       "    .dataframe tbody tr th:only-of-type {\n",
       "        vertical-align: middle;\n",
       "    }\n",
       "\n",
       "    .dataframe tbody tr th {\n",
       "        vertical-align: top;\n",
       "    }\n",
       "\n",
       "    .dataframe thead th {\n",
       "        text-align: right;\n",
       "    }\n",
       "</style>\n",
       "<table border=\"1\" class=\"dataframe\">\n",
       "  <thead>\n",
       "    <tr style=\"text-align: right;\">\n",
       "      <th></th>\n",
       "      <th>ID</th>\n",
       "      <th>Year_Birth</th>\n",
       "      <th>Education</th>\n",
       "      <th>Material_Status</th>\n",
       "      <th>Income</th>\n",
       "      <th>Kidhome</th>\n",
       "      <th>Teenhome</th>\n",
       "      <th>Dt_Customer</th>\n",
       "      <th>Recency</th>\n",
       "      <th>MntWines</th>\n",
       "      <th>...</th>\n",
       "      <th>NumWebVisitsMonth</th>\n",
       "      <th>AcceptedCmp3</th>\n",
       "      <th>AcceptedCmp4</th>\n",
       "      <th>AcceptedCmp5</th>\n",
       "      <th>AcceptedCmp1</th>\n",
       "      <th>AcceptedCmp2</th>\n",
       "      <th>Complain</th>\n",
       "      <th>Z_CostContact</th>\n",
       "      <th>Z_Revenue</th>\n",
       "      <th>Response</th>\n",
       "    </tr>\n",
       "  </thead>\n",
       "  <tbody>\n",
       "    <tr>\n",
       "      <th>0</th>\n",
       "      <td>5524</td>\n",
       "      <td>1957</td>\n",
       "      <td>Graduation</td>\n",
       "      <td>Single</td>\n",
       "      <td>58138.0</td>\n",
       "      <td>0</td>\n",
       "      <td>0</td>\n",
       "      <td>4/9/2012</td>\n",
       "      <td>58</td>\n",
       "      <td>635</td>\n",
       "      <td>...</td>\n",
       "      <td>7</td>\n",
       "      <td>0</td>\n",
       "      <td>0</td>\n",
       "      <td>0</td>\n",
       "      <td>0</td>\n",
       "      <td>0</td>\n",
       "      <td>0</td>\n",
       "      <td>3</td>\n",
       "      <td>11</td>\n",
       "      <td>1</td>\n",
       "    </tr>\n",
       "    <tr>\n",
       "      <th>1</th>\n",
       "      <td>2174</td>\n",
       "      <td>1954</td>\n",
       "      <td>Graduation</td>\n",
       "      <td>Single</td>\n",
       "      <td>46344.0</td>\n",
       "      <td>1</td>\n",
       "      <td>1</td>\n",
       "      <td>8/3/2014</td>\n",
       "      <td>38</td>\n",
       "      <td>11</td>\n",
       "      <td>...</td>\n",
       "      <td>5</td>\n",
       "      <td>0</td>\n",
       "      <td>0</td>\n",
       "      <td>0</td>\n",
       "      <td>0</td>\n",
       "      <td>0</td>\n",
       "      <td>0</td>\n",
       "      <td>3</td>\n",
       "      <td>11</td>\n",
       "      <td>0</td>\n",
       "    </tr>\n",
       "    <tr>\n",
       "      <th>2</th>\n",
       "      <td>4141</td>\n",
       "      <td>1965</td>\n",
       "      <td>Graduation</td>\n",
       "      <td>Together</td>\n",
       "      <td>71613.0</td>\n",
       "      <td>0</td>\n",
       "      <td>0</td>\n",
       "      <td>2/8/2013</td>\n",
       "      <td>26</td>\n",
       "      <td>426</td>\n",
       "      <td>...</td>\n",
       "      <td>4</td>\n",
       "      <td>0</td>\n",
       "      <td>0</td>\n",
       "      <td>0</td>\n",
       "      <td>0</td>\n",
       "      <td>0</td>\n",
       "      <td>0</td>\n",
       "      <td>3</td>\n",
       "      <td>11</td>\n",
       "      <td>0</td>\n",
       "    </tr>\n",
       "    <tr>\n",
       "      <th>3</th>\n",
       "      <td>6182</td>\n",
       "      <td>1984</td>\n",
       "      <td>Graduation</td>\n",
       "      <td>Together</td>\n",
       "      <td>26646.0</td>\n",
       "      <td>1</td>\n",
       "      <td>0</td>\n",
       "      <td>10/2/2014</td>\n",
       "      <td>26</td>\n",
       "      <td>11</td>\n",
       "      <td>...</td>\n",
       "      <td>6</td>\n",
       "      <td>0</td>\n",
       "      <td>0</td>\n",
       "      <td>0</td>\n",
       "      <td>0</td>\n",
       "      <td>0</td>\n",
       "      <td>0</td>\n",
       "      <td>3</td>\n",
       "      <td>11</td>\n",
       "      <td>0</td>\n",
       "    </tr>\n",
       "    <tr>\n",
       "      <th>4</th>\n",
       "      <td>5324</td>\n",
       "      <td>1981</td>\n",
       "      <td>PhD</td>\n",
       "      <td>Married</td>\n",
       "      <td>58293.0</td>\n",
       "      <td>1</td>\n",
       "      <td>0</td>\n",
       "      <td>19/1/2014</td>\n",
       "      <td>94</td>\n",
       "      <td>173</td>\n",
       "      <td>...</td>\n",
       "      <td>5</td>\n",
       "      <td>0</td>\n",
       "      <td>0</td>\n",
       "      <td>0</td>\n",
       "      <td>0</td>\n",
       "      <td>0</td>\n",
       "      <td>0</td>\n",
       "      <td>3</td>\n",
       "      <td>11</td>\n",
       "      <td>0</td>\n",
       "    </tr>\n",
       "  </tbody>\n",
       "</table>\n",
       "<p>5 rows × 29 columns</p>\n",
       "</div>"
      ],
      "text/plain": [
       "     ID  Year_Birth   Education Material_Status   Income  Kidhome  Teenhome  \\\n",
       "0  5524        1957  Graduation          Single  58138.0        0         0   \n",
       "1  2174        1954  Graduation          Single  46344.0        1         1   \n",
       "2  4141        1965  Graduation        Together  71613.0        0         0   \n",
       "3  6182        1984  Graduation        Together  26646.0        1         0   \n",
       "4  5324        1981         PhD         Married  58293.0        1         0   \n",
       "\n",
       "  Dt_Customer  Recency  MntWines  ...  NumWebVisitsMonth  AcceptedCmp3  \\\n",
       "0    4/9/2012       58       635  ...                  7             0   \n",
       "1    8/3/2014       38        11  ...                  5             0   \n",
       "2    2/8/2013       26       426  ...                  4             0   \n",
       "3   10/2/2014       26        11  ...                  6             0   \n",
       "4   19/1/2014       94       173  ...                  5             0   \n",
       "\n",
       "   AcceptedCmp4  AcceptedCmp5  AcceptedCmp1  AcceptedCmp2  Complain  \\\n",
       "0             0             0             0             0         0   \n",
       "1             0             0             0             0         0   \n",
       "2             0             0             0             0         0   \n",
       "3             0             0             0             0         0   \n",
       "4             0             0             0             0         0   \n",
       "\n",
       "   Z_CostContact  Z_Revenue  Response  \n",
       "0              3         11         1  \n",
       "1              3         11         0  \n",
       "2              3         11         0  \n",
       "3              3         11         0  \n",
       "4              3         11         0  \n",
       "\n",
       "[5 rows x 29 columns]"
      ]
     },
     "execution_count": 4,
     "metadata": {},
     "output_type": "execute_result"
    }
   ],
   "source": [
    "#Reading Dataset\n",
    "df.head()"
   ]
  },
  {
   "cell_type": "code",
   "execution_count": 5,
   "id": "7f9ec09d",
   "metadata": {},
   "outputs": [
    {
     "data": {
      "text/plain": [
       "\"\\nPeople\\n\\nID: Customer's unique identifier.\\nYear_Birth: Customer's birth year.\\nEducation: Customer's education level.\\nMarital_Status: Customer's marital status.\\nIncome: Customer's yearly household income.\\nKidhome: Number of children in customer's household.\\nTeenhome: Number of teenagers in customer's household.\\nDt_Customer: Date of customer's enrollment with the company.\\nRecency: Number of days since customer's last purchase.\\nComplain: 1 if customer complained in the last 2 years, 0 otherwise.\\n\\nProducts\\n\\nMntWines: Amount spent on wine in last 2 years.\\nMntFruits: Amount spent on fruits in last 2 years.\\nMntMeatProducts: Amount spent on meat in last 2 years.\\nMntFishProducts: Amount spent on fish in last 2 years.\\nMntSweetProducts: Amount spent on sweets in last 2 years.\\nMntGoldProds: Amount spent on gold in last 2 years.\\n\\nPromotion\\n\\nNumDealsPurchases: Number of purchases made with a discount.\\nAcceptedCmp1: 1 if customer accepted the offer in the 1st campaign, 0 otherwise.\\nAcceptedCmp2: 1 if customer accepted the offer in the 2nd campaign, 0 otherwise.\\nAcceptedCmp3: 1 if customer accepted the offer in the 3rd campaign, 0 otherwise.\\nAcceptedCmp4: 1 if customer accepted the offer in the 4th campaign, 0 otherwise.\\nAcceptedCmp5: 1 if customer accepted the offer in the 5th campaign, 0 otherwise.\\nResponse: 1 if customer accepted the offer in the last campaign, 0 otherwise.\\n\\nPlace\\n\\nNumWebPurchases: Number of purchases made through the company’s web site.\\nNumCatalogPurchases: Number of purchases made using a catalogue.\\nNumStorePurchases: Number of purchases made directly in stores.\\nNumWebVisitsMonth: Number of visits to company’s web site in the last month.\\n\""
      ]
     },
     "execution_count": 5,
     "metadata": {},
     "output_type": "execute_result"
    }
   ],
   "source": [
    "'''\n",
    "People\n",
    "\n",
    "ID: Customer's unique identifier.\n",
    "Year_Birth: Customer's birth year.\n",
    "Education: Customer's education level.\n",
    "Marital_Status: Customer's marital status.\n",
    "Income: Customer's yearly household income.\n",
    "Kidhome: Number of children in customer's household.\n",
    "Teenhome: Number of teenagers in customer's household.\n",
    "Dt_Customer: Date of customer's enrollment with the company.\n",
    "Recency: Number of days since customer's last purchase.\n",
    "Complain: 1 if customer complained in the last 2 years, 0 otherwise.\n",
    "\n",
    "Products\n",
    "\n",
    "MntWines: Amount spent on wine in last 2 years.\n",
    "MntFruits: Amount spent on fruits in last 2 years.\n",
    "MntMeatProducts: Amount spent on meat in last 2 years.\n",
    "MntFishProducts: Amount spent on fish in last 2 years.\n",
    "MntSweetProducts: Amount spent on sweets in last 2 years.\n",
    "MntGoldProds: Amount spent on gold in last 2 years.\n",
    "\n",
    "Promotion\n",
    "\n",
    "NumDealsPurchases: Number of purchases made with a discount.\n",
    "AcceptedCmp1: 1 if customer accepted the offer in the 1st campaign, 0 otherwise.\n",
    "AcceptedCmp2: 1 if customer accepted the offer in the 2nd campaign, 0 otherwise.\n",
    "AcceptedCmp3: 1 if customer accepted the offer in the 3rd campaign, 0 otherwise.\n",
    "AcceptedCmp4: 1 if customer accepted the offer in the 4th campaign, 0 otherwise.\n",
    "AcceptedCmp5: 1 if customer accepted the offer in the 5th campaign, 0 otherwise.\n",
    "Response: 1 if customer accepted the offer in the last campaign, 0 otherwise.\n",
    "\n",
    "Place\n",
    "\n",
    "NumWebPurchases: Number of purchases made through the company’s web site.\n",
    "NumCatalogPurchases: Number of purchases made using a catalogue.\n",
    "NumStorePurchases: Number of purchases made directly in stores.\n",
    "NumWebVisitsMonth: Number of visits to company’s web site in the last month.\n",
    "'''"
   ]
  },
  {
   "cell_type": "code",
   "execution_count": 6,
   "id": "990143cb",
   "metadata": {},
   "outputs": [
    {
     "name": "stdout",
     "output_type": "stream",
     "text": [
      "<class 'pandas.core.frame.DataFrame'>\n",
      "RangeIndex: 99 entries, 0 to 98\n",
      "Data columns (total 29 columns):\n",
      " #   Column               Non-Null Count  Dtype  \n",
      "---  ------               --------------  -----  \n",
      " 0   ID                   99 non-null     int64  \n",
      " 1   Year_Birth           99 non-null     int64  \n",
      " 2   Education            99 non-null     object \n",
      " 3   Material_Status      99 non-null     object \n",
      " 4   Income               90 non-null     float64\n",
      " 5   Kidhome              99 non-null     int64  \n",
      " 6   Teenhome             99 non-null     int64  \n",
      " 7   Dt_Customer          99 non-null     object \n",
      " 8   Recency              99 non-null     int64  \n",
      " 9   MntWines             99 non-null     int64  \n",
      " 10  MntFruits            99 non-null     int64  \n",
      " 11  MntMeatProducts      99 non-null     int64  \n",
      " 12  MntFishProducts      99 non-null     int64  \n",
      " 13  MntFSweetProducts    99 non-null     int64  \n",
      " 14  MntGoldProds         99 non-null     int64  \n",
      " 15  NumDealsPurchases    99 non-null     int64  \n",
      " 16  NumWebPurchases      99 non-null     int64  \n",
      " 17  NumCatalogPurchases  99 non-null     int64  \n",
      " 18  NumStorePurchases    99 non-null     int64  \n",
      " 19  NumWebVisitsMonth    99 non-null     int64  \n",
      " 20  AcceptedCmp3         99 non-null     int64  \n",
      " 21  AcceptedCmp4         99 non-null     int64  \n",
      " 22  AcceptedCmp5         99 non-null     int64  \n",
      " 23  AcceptedCmp1         99 non-null     int64  \n",
      " 24  AcceptedCmp2         99 non-null     int64  \n",
      " 25  Complain             99 non-null     int64  \n",
      " 26  Z_CostContact        99 non-null     int64  \n",
      " 27  Z_Revenue            99 non-null     int64  \n",
      " 28  Response             99 non-null     int64  \n",
      "dtypes: float64(1), int64(25), object(3)\n",
      "memory usage: 22.6+ KB\n"
     ]
    }
   ],
   "source": [
    "#Getting complete information of data\n",
    "df.info()"
   ]
  },
  {
   "cell_type": "code",
   "execution_count": 7,
   "id": "de2fb26e",
   "metadata": {},
   "outputs": [
    {
     "data": {
      "text/plain": [
       "ID                     0\n",
       "Year_Birth             0\n",
       "Education              0\n",
       "Material_Status        0\n",
       "Income                 9\n",
       "Kidhome                0\n",
       "Teenhome               0\n",
       "Dt_Customer            0\n",
       "Recency                0\n",
       "MntWines               0\n",
       "MntFruits              0\n",
       "MntMeatProducts        0\n",
       "MntFishProducts        0\n",
       "MntFSweetProducts      0\n",
       "MntGoldProds           0\n",
       "NumDealsPurchases      0\n",
       "NumWebPurchases        0\n",
       "NumCatalogPurchases    0\n",
       "NumStorePurchases      0\n",
       "NumWebVisitsMonth      0\n",
       "AcceptedCmp3           0\n",
       "AcceptedCmp4           0\n",
       "AcceptedCmp5           0\n",
       "AcceptedCmp1           0\n",
       "AcceptedCmp2           0\n",
       "Complain               0\n",
       "Z_CostContact          0\n",
       "Z_Revenue              0\n",
       "Response               0\n",
       "dtype: int64"
      ]
     },
     "execution_count": 7,
     "metadata": {},
     "output_type": "execute_result"
    }
   ],
   "source": [
    "#Checking null value\n",
    "df.isnull().sum()"
   ]
  },
  {
   "cell_type": "markdown",
   "id": "84f9b9b3",
   "metadata": {},
   "source": [
    "EDA"
   ]
  },
  {
   "cell_type": "code",
   "execution_count": 8,
   "id": "8b3b49d7",
   "metadata": {},
   "outputs": [],
   "source": [
    "#Creating Copy of Raw Dataset\n",
    "df1=df.copy()"
   ]
  },
  {
   "cell_type": "code",
   "execution_count": 9,
   "id": "c48c1099",
   "metadata": {},
   "outputs": [],
   "source": [
    "#Filling missing value with mean in income column\n",
    "df1['Income'].fillna(value=df1['Income'].mean(),inplace=True)"
   ]
  },
  {
   "cell_type": "code",
   "execution_count": 10,
   "id": "086c06ca",
   "metadata": {},
   "outputs": [
    {
     "data": {
      "text/plain": [
       "ID                     False\n",
       "Year_Birth             False\n",
       "Education              False\n",
       "Material_Status        False\n",
       "Income                 False\n",
       "Kidhome                False\n",
       "Teenhome               False\n",
       "Dt_Customer            False\n",
       "Recency                False\n",
       "MntWines               False\n",
       "MntFruits              False\n",
       "MntMeatProducts        False\n",
       "MntFishProducts        False\n",
       "MntFSweetProducts      False\n",
       "MntGoldProds           False\n",
       "NumDealsPurchases      False\n",
       "NumWebPurchases        False\n",
       "NumCatalogPurchases    False\n",
       "NumStorePurchases      False\n",
       "NumWebVisitsMonth      False\n",
       "AcceptedCmp3           False\n",
       "AcceptedCmp4           False\n",
       "AcceptedCmp5           False\n",
       "AcceptedCmp1           False\n",
       "AcceptedCmp2           False\n",
       "Complain               False\n",
       "Z_CostContact          False\n",
       "Z_Revenue              False\n",
       "Response               False\n",
       "dtype: bool"
      ]
     },
     "execution_count": 10,
     "metadata": {},
     "output_type": "execute_result"
    }
   ],
   "source": [
    "#Checking NAN is present in any column or not\n",
    "\n",
    "df1.isna().any()"
   ]
  },
  {
   "cell_type": "code",
   "execution_count": 11,
   "id": "00c4d51f",
   "metadata": {},
   "outputs": [
    {
     "name": "stdout",
     "output_type": "stream",
     "text": [
      "Shape of DataFrame is:\n",
      " (99, 29)\n"
     ]
    }
   ],
   "source": [
    "#Checking Shape of Dataset\n",
    "print('Shape of DataFrame is:\\n',df1.shape)            #Rows,column"
   ]
  },
  {
   "cell_type": "code",
   "execution_count": 12,
   "id": "e8df3b64",
   "metadata": {},
   "outputs": [
    {
     "name": "stdout",
     "output_type": "stream",
     "text": [
      "Column in DataFerame is:\n",
      " Index(['ID', 'Year_Birth', 'Education', 'Material_Status', 'Income', 'Kidhome',\n",
      "       'Teenhome', 'Dt_Customer', 'Recency', 'MntWines', 'MntFruits',\n",
      "       'MntMeatProducts', 'MntFishProducts', 'MntFSweetProducts',\n",
      "       'MntGoldProds', 'NumDealsPurchases', 'NumWebPurchases',\n",
      "       'NumCatalogPurchases', 'NumStorePurchases', 'NumWebVisitsMonth',\n",
      "       'AcceptedCmp3', 'AcceptedCmp4', 'AcceptedCmp5', 'AcceptedCmp1',\n",
      "       'AcceptedCmp2', 'Complain', 'Z_CostContact', 'Z_Revenue', 'Response'],\n",
      "      dtype='object')\n"
     ]
    }
   ],
   "source": [
    "#Checking column names\n",
    "print('Column in DataFerame is:\\n',df.columns)"
   ]
  },
  {
   "cell_type": "code",
   "execution_count": 13,
   "id": "5493f417",
   "metadata": {},
   "outputs": [
    {
     "data": {
      "text/html": [
       "<div>\n",
       "<style scoped>\n",
       "    .dataframe tbody tr th:only-of-type {\n",
       "        vertical-align: middle;\n",
       "    }\n",
       "\n",
       "    .dataframe tbody tr th {\n",
       "        vertical-align: top;\n",
       "    }\n",
       "\n",
       "    .dataframe thead th {\n",
       "        text-align: right;\n",
       "    }\n",
       "</style>\n",
       "<table border=\"1\" class=\"dataframe\">\n",
       "  <thead>\n",
       "    <tr style=\"text-align: right;\">\n",
       "      <th></th>\n",
       "      <th>ID</th>\n",
       "      <th>Year_Birth</th>\n",
       "      <th>Income</th>\n",
       "      <th>Kidhome</th>\n",
       "      <th>Teenhome</th>\n",
       "      <th>Recency</th>\n",
       "      <th>MntWines</th>\n",
       "      <th>MntFruits</th>\n",
       "      <th>MntMeatProducts</th>\n",
       "      <th>MntFishProducts</th>\n",
       "      <th>...</th>\n",
       "      <th>NumWebVisitsMonth</th>\n",
       "      <th>AcceptedCmp3</th>\n",
       "      <th>AcceptedCmp4</th>\n",
       "      <th>AcceptedCmp5</th>\n",
       "      <th>AcceptedCmp1</th>\n",
       "      <th>AcceptedCmp2</th>\n",
       "      <th>Complain</th>\n",
       "      <th>Z_CostContact</th>\n",
       "      <th>Z_Revenue</th>\n",
       "      <th>Response</th>\n",
       "    </tr>\n",
       "  </thead>\n",
       "  <tbody>\n",
       "    <tr>\n",
       "      <th>count</th>\n",
       "      <td>99.000000</td>\n",
       "      <td>99.000000</td>\n",
       "      <td>99.000000</td>\n",
       "      <td>99.000000</td>\n",
       "      <td>99.000000</td>\n",
       "      <td>99.000000</td>\n",
       "      <td>99.000000</td>\n",
       "      <td>99.000000</td>\n",
       "      <td>99.000000</td>\n",
       "      <td>99.000000</td>\n",
       "      <td>...</td>\n",
       "      <td>99.000000</td>\n",
       "      <td>99.000000</td>\n",
       "      <td>99.000000</td>\n",
       "      <td>99.000000</td>\n",
       "      <td>99.000000</td>\n",
       "      <td>99.0</td>\n",
       "      <td>99.000000</td>\n",
       "      <td>99.0</td>\n",
       "      <td>99.0</td>\n",
       "      <td>99.000000</td>\n",
       "    </tr>\n",
       "    <tr>\n",
       "      <th>mean</th>\n",
       "      <td>5430.919192</td>\n",
       "      <td>1967.959596</td>\n",
       "      <td>49492.955556</td>\n",
       "      <td>0.454545</td>\n",
       "      <td>0.424242</td>\n",
       "      <td>44.858586</td>\n",
       "      <td>254.868687</td>\n",
       "      <td>22.171717</td>\n",
       "      <td>175.040404</td>\n",
       "      <td>39.232323</td>\n",
       "      <td>...</td>\n",
       "      <td>5.393939</td>\n",
       "      <td>0.060606</td>\n",
       "      <td>0.070707</td>\n",
       "      <td>0.050505</td>\n",
       "      <td>0.060606</td>\n",
       "      <td>0.0</td>\n",
       "      <td>0.010101</td>\n",
       "      <td>3.0</td>\n",
       "      <td>11.0</td>\n",
       "      <td>0.161616</td>\n",
       "    </tr>\n",
       "    <tr>\n",
       "      <th>std</th>\n",
       "      <td>3122.535445</td>\n",
       "      <td>12.627246</td>\n",
       "      <td>21292.483534</td>\n",
       "      <td>0.539704</td>\n",
       "      <td>0.536255</td>\n",
       "      <td>29.491268</td>\n",
       "      <td>288.836111</td>\n",
       "      <td>32.274663</td>\n",
       "      <td>268.492425</td>\n",
       "      <td>57.605064</td>\n",
       "      <td>...</td>\n",
       "      <td>2.773115</td>\n",
       "      <td>0.239821</td>\n",
       "      <td>0.257639</td>\n",
       "      <td>0.220099</td>\n",
       "      <td>0.239821</td>\n",
       "      <td>0.0</td>\n",
       "      <td>0.100504</td>\n",
       "      <td>0.0</td>\n",
       "      <td>0.0</td>\n",
       "      <td>0.369972</td>\n",
       "    </tr>\n",
       "    <tr>\n",
       "      <th>min</th>\n",
       "      <td>273.000000</td>\n",
       "      <td>1943.000000</td>\n",
       "      <td>2447.000000</td>\n",
       "      <td>0.000000</td>\n",
       "      <td>0.000000</td>\n",
       "      <td>0.000000</td>\n",
       "      <td>1.000000</td>\n",
       "      <td>0.000000</td>\n",
       "      <td>1.000000</td>\n",
       "      <td>0.000000</td>\n",
       "      <td>...</td>\n",
       "      <td>1.000000</td>\n",
       "      <td>0.000000</td>\n",
       "      <td>0.000000</td>\n",
       "      <td>0.000000</td>\n",
       "      <td>0.000000</td>\n",
       "      <td>0.0</td>\n",
       "      <td>0.000000</td>\n",
       "      <td>3.0</td>\n",
       "      <td>11.0</td>\n",
       "      <td>0.000000</td>\n",
       "    </tr>\n",
       "    <tr>\n",
       "      <th>25%</th>\n",
       "      <td>2245.500000</td>\n",
       "      <td>1957.000000</td>\n",
       "      <td>33633.000000</td>\n",
       "      <td>0.000000</td>\n",
       "      <td>0.000000</td>\n",
       "      <td>19.500000</td>\n",
       "      <td>13.000000</td>\n",
       "      <td>2.000000</td>\n",
       "      <td>14.500000</td>\n",
       "      <td>2.000000</td>\n",
       "      <td>...</td>\n",
       "      <td>3.000000</td>\n",
       "      <td>0.000000</td>\n",
       "      <td>0.000000</td>\n",
       "      <td>0.000000</td>\n",
       "      <td>0.000000</td>\n",
       "      <td>0.0</td>\n",
       "      <td>0.000000</td>\n",
       "      <td>3.0</td>\n",
       "      <td>11.0</td>\n",
       "      <td>0.000000</td>\n",
       "    </tr>\n",
       "    <tr>\n",
       "      <th>50%</th>\n",
       "      <td>5524.000000</td>\n",
       "      <td>1970.000000</td>\n",
       "      <td>49492.955556</td>\n",
       "      <td>0.000000</td>\n",
       "      <td>0.000000</td>\n",
       "      <td>40.000000</td>\n",
       "      <td>123.000000</td>\n",
       "      <td>6.000000</td>\n",
       "      <td>48.000000</td>\n",
       "      <td>10.000000</td>\n",
       "      <td>...</td>\n",
       "      <td>6.000000</td>\n",
       "      <td>0.000000</td>\n",
       "      <td>0.000000</td>\n",
       "      <td>0.000000</td>\n",
       "      <td>0.000000</td>\n",
       "      <td>0.0</td>\n",
       "      <td>0.000000</td>\n",
       "      <td>3.0</td>\n",
       "      <td>11.0</td>\n",
       "      <td>0.000000</td>\n",
       "    </tr>\n",
       "    <tr>\n",
       "      <th>75%</th>\n",
       "      <td>8107.000000</td>\n",
       "      <td>1977.000000</td>\n",
       "      <td>66822.000000</td>\n",
       "      <td>1.000000</td>\n",
       "      <td>1.000000</td>\n",
       "      <td>69.000000</td>\n",
       "      <td>446.000000</td>\n",
       "      <td>34.500000</td>\n",
       "      <td>236.000000</td>\n",
       "      <td>50.000000</td>\n",
       "      <td>...</td>\n",
       "      <td>7.000000</td>\n",
       "      <td>0.000000</td>\n",
       "      <td>0.000000</td>\n",
       "      <td>0.000000</td>\n",
       "      <td>0.000000</td>\n",
       "      <td>0.0</td>\n",
       "      <td>0.000000</td>\n",
       "      <td>3.0</td>\n",
       "      <td>11.0</td>\n",
       "      <td>0.000000</td>\n",
       "    </tr>\n",
       "    <tr>\n",
       "      <th>max</th>\n",
       "      <td>11178.000000</td>\n",
       "      <td>1996.000000</td>\n",
       "      <td>88194.000000</td>\n",
       "      <td>2.000000</td>\n",
       "      <td>2.000000</td>\n",
       "      <td>99.000000</td>\n",
       "      <td>1032.000000</td>\n",
       "      <td>164.000000</td>\n",
       "      <td>1725.000000</td>\n",
       "      <td>227.000000</td>\n",
       "      <td>...</td>\n",
       "      <td>20.000000</td>\n",
       "      <td>1.000000</td>\n",
       "      <td>1.000000</td>\n",
       "      <td>1.000000</td>\n",
       "      <td>1.000000</td>\n",
       "      <td>0.0</td>\n",
       "      <td>1.000000</td>\n",
       "      <td>3.0</td>\n",
       "      <td>11.0</td>\n",
       "      <td>1.000000</td>\n",
       "    </tr>\n",
       "  </tbody>\n",
       "</table>\n",
       "<p>8 rows × 26 columns</p>\n",
       "</div>"
      ],
      "text/plain": [
       "                 ID   Year_Birth        Income    Kidhome   Teenhome  \\\n",
       "count     99.000000    99.000000     99.000000  99.000000  99.000000   \n",
       "mean    5430.919192  1967.959596  49492.955556   0.454545   0.424242   \n",
       "std     3122.535445    12.627246  21292.483534   0.539704   0.536255   \n",
       "min      273.000000  1943.000000   2447.000000   0.000000   0.000000   \n",
       "25%     2245.500000  1957.000000  33633.000000   0.000000   0.000000   \n",
       "50%     5524.000000  1970.000000  49492.955556   0.000000   0.000000   \n",
       "75%     8107.000000  1977.000000  66822.000000   1.000000   1.000000   \n",
       "max    11178.000000  1996.000000  88194.000000   2.000000   2.000000   \n",
       "\n",
       "         Recency     MntWines   MntFruits  MntMeatProducts  MntFishProducts  \\\n",
       "count  99.000000    99.000000   99.000000        99.000000        99.000000   \n",
       "mean   44.858586   254.868687   22.171717       175.040404        39.232323   \n",
       "std    29.491268   288.836111   32.274663       268.492425        57.605064   \n",
       "min     0.000000     1.000000    0.000000         1.000000         0.000000   \n",
       "25%    19.500000    13.000000    2.000000        14.500000         2.000000   \n",
       "50%    40.000000   123.000000    6.000000        48.000000        10.000000   \n",
       "75%    69.000000   446.000000   34.500000       236.000000        50.000000   \n",
       "max    99.000000  1032.000000  164.000000      1725.000000       227.000000   \n",
       "\n",
       "       ...  NumWebVisitsMonth  AcceptedCmp3  AcceptedCmp4  AcceptedCmp5  \\\n",
       "count  ...          99.000000     99.000000     99.000000     99.000000   \n",
       "mean   ...           5.393939      0.060606      0.070707      0.050505   \n",
       "std    ...           2.773115      0.239821      0.257639      0.220099   \n",
       "min    ...           1.000000      0.000000      0.000000      0.000000   \n",
       "25%    ...           3.000000      0.000000      0.000000      0.000000   \n",
       "50%    ...           6.000000      0.000000      0.000000      0.000000   \n",
       "75%    ...           7.000000      0.000000      0.000000      0.000000   \n",
       "max    ...          20.000000      1.000000      1.000000      1.000000   \n",
       "\n",
       "       AcceptedCmp1  AcceptedCmp2   Complain  Z_CostContact  Z_Revenue  \\\n",
       "count     99.000000          99.0  99.000000           99.0       99.0   \n",
       "mean       0.060606           0.0   0.010101            3.0       11.0   \n",
       "std        0.239821           0.0   0.100504            0.0        0.0   \n",
       "min        0.000000           0.0   0.000000            3.0       11.0   \n",
       "25%        0.000000           0.0   0.000000            3.0       11.0   \n",
       "50%        0.000000           0.0   0.000000            3.0       11.0   \n",
       "75%        0.000000           0.0   0.000000            3.0       11.0   \n",
       "max        1.000000           0.0   1.000000            3.0       11.0   \n",
       "\n",
       "        Response  \n",
       "count  99.000000  \n",
       "mean    0.161616  \n",
       "std     0.369972  \n",
       "min     0.000000  \n",
       "25%     0.000000  \n",
       "50%     0.000000  \n",
       "75%     0.000000  \n",
       "max     1.000000  \n",
       "\n",
       "[8 rows x 26 columns]"
      ]
     },
     "execution_count": 13,
     "metadata": {},
     "output_type": "execute_result"
    }
   ],
   "source": [
    "#LETS DO THE BASIC STATISTICS ON CONTINOUS FEATURES...\n",
    "df1.describe()"
   ]
  },
  {
   "cell_type": "code",
   "execution_count": 14,
   "id": "6f54f294",
   "metadata": {},
   "outputs": [
    {
     "data": {
      "text/plain": [
       "ID                     99\n",
       "Year_Birth             41\n",
       "Education               5\n",
       "Material_Status         5\n",
       "Income                 88\n",
       "Kidhome                 3\n",
       "Teenhome                3\n",
       "Dt_Customer            89\n",
       "Recency                62\n",
       "MntWines               82\n",
       "MntFruits              44\n",
       "MntMeatProducts        77\n",
       "MntFishProducts        46\n",
       "MntFSweetProducts      44\n",
       "MntGoldProds           56\n",
       "NumDealsPurchases      11\n",
       "NumWebPurchases        13\n",
       "NumCatalogPurchases    12\n",
       "NumStorePurchases      13\n",
       "NumWebVisitsMonth      11\n",
       "AcceptedCmp3            2\n",
       "AcceptedCmp4            2\n",
       "AcceptedCmp5            2\n",
       "AcceptedCmp1            2\n",
       "AcceptedCmp2            1\n",
       "Complain                2\n",
       "Z_CostContact           1\n",
       "Z_Revenue               1\n",
       "Response                2\n",
       "dtype: int64"
      ]
     },
     "execution_count": 14,
     "metadata": {},
     "output_type": "execute_result"
    }
   ],
   "source": [
    "#FINDING THE NUMBER OF UNIQUE VALUES PRESENT IN EACH COLUMN...\n",
    "df1.nunique()"
   ]
  },
  {
   "cell_type": "markdown",
   "id": "bd152346",
   "metadata": {},
   "source": [
    "Note:-In above cell \"Z_CostContact\" and \"Z_Revenue\" have same value in all the rows that's why , they are not going to contribute anything in the model building. So we can drop them.\n"
   ]
  },
  {
   "cell_type": "code",
   "execution_count": 15,
   "id": "b73eb96b",
   "metadata": {},
   "outputs": [
    {
     "data": {
      "text/html": [
       "<div>\n",
       "<style scoped>\n",
       "    .dataframe tbody tr th:only-of-type {\n",
       "        vertical-align: middle;\n",
       "    }\n",
       "\n",
       "    .dataframe tbody tr th {\n",
       "        vertical-align: top;\n",
       "    }\n",
       "\n",
       "    .dataframe thead th {\n",
       "        text-align: right;\n",
       "    }\n",
       "</style>\n",
       "<table border=\"1\" class=\"dataframe\">\n",
       "  <thead>\n",
       "    <tr style=\"text-align: right;\">\n",
       "      <th></th>\n",
       "      <th>ID</th>\n",
       "      <th>Year_Birth</th>\n",
       "      <th>Education</th>\n",
       "      <th>Material_Status</th>\n",
       "      <th>Income</th>\n",
       "      <th>Kidhome</th>\n",
       "      <th>Teenhome</th>\n",
       "      <th>Dt_Customer</th>\n",
       "      <th>Recency</th>\n",
       "      <th>MntWines</th>\n",
       "      <th>...</th>\n",
       "      <th>NumCatalogPurchases</th>\n",
       "      <th>NumStorePurchases</th>\n",
       "      <th>NumWebVisitsMonth</th>\n",
       "      <th>AcceptedCmp3</th>\n",
       "      <th>AcceptedCmp4</th>\n",
       "      <th>AcceptedCmp5</th>\n",
       "      <th>AcceptedCmp1</th>\n",
       "      <th>AcceptedCmp2</th>\n",
       "      <th>Complain</th>\n",
       "      <th>Response</th>\n",
       "    </tr>\n",
       "  </thead>\n",
       "  <tbody>\n",
       "    <tr>\n",
       "      <th>0</th>\n",
       "      <td>5524</td>\n",
       "      <td>1957</td>\n",
       "      <td>Graduation</td>\n",
       "      <td>Single</td>\n",
       "      <td>58138.0</td>\n",
       "      <td>0</td>\n",
       "      <td>0</td>\n",
       "      <td>4/9/2012</td>\n",
       "      <td>58</td>\n",
       "      <td>635</td>\n",
       "      <td>...</td>\n",
       "      <td>10</td>\n",
       "      <td>4</td>\n",
       "      <td>7</td>\n",
       "      <td>0</td>\n",
       "      <td>0</td>\n",
       "      <td>0</td>\n",
       "      <td>0</td>\n",
       "      <td>0</td>\n",
       "      <td>0</td>\n",
       "      <td>1</td>\n",
       "    </tr>\n",
       "    <tr>\n",
       "      <th>1</th>\n",
       "      <td>2174</td>\n",
       "      <td>1954</td>\n",
       "      <td>Graduation</td>\n",
       "      <td>Single</td>\n",
       "      <td>46344.0</td>\n",
       "      <td>1</td>\n",
       "      <td>1</td>\n",
       "      <td>8/3/2014</td>\n",
       "      <td>38</td>\n",
       "      <td>11</td>\n",
       "      <td>...</td>\n",
       "      <td>1</td>\n",
       "      <td>2</td>\n",
       "      <td>5</td>\n",
       "      <td>0</td>\n",
       "      <td>0</td>\n",
       "      <td>0</td>\n",
       "      <td>0</td>\n",
       "      <td>0</td>\n",
       "      <td>0</td>\n",
       "      <td>0</td>\n",
       "    </tr>\n",
       "    <tr>\n",
       "      <th>2</th>\n",
       "      <td>4141</td>\n",
       "      <td>1965</td>\n",
       "      <td>Graduation</td>\n",
       "      <td>Together</td>\n",
       "      <td>71613.0</td>\n",
       "      <td>0</td>\n",
       "      <td>0</td>\n",
       "      <td>2/8/2013</td>\n",
       "      <td>26</td>\n",
       "      <td>426</td>\n",
       "      <td>...</td>\n",
       "      <td>2</td>\n",
       "      <td>10</td>\n",
       "      <td>4</td>\n",
       "      <td>0</td>\n",
       "      <td>0</td>\n",
       "      <td>0</td>\n",
       "      <td>0</td>\n",
       "      <td>0</td>\n",
       "      <td>0</td>\n",
       "      <td>0</td>\n",
       "    </tr>\n",
       "    <tr>\n",
       "      <th>3</th>\n",
       "      <td>6182</td>\n",
       "      <td>1984</td>\n",
       "      <td>Graduation</td>\n",
       "      <td>Together</td>\n",
       "      <td>26646.0</td>\n",
       "      <td>1</td>\n",
       "      <td>0</td>\n",
       "      <td>10/2/2014</td>\n",
       "      <td>26</td>\n",
       "      <td>11</td>\n",
       "      <td>...</td>\n",
       "      <td>0</td>\n",
       "      <td>4</td>\n",
       "      <td>6</td>\n",
       "      <td>0</td>\n",
       "      <td>0</td>\n",
       "      <td>0</td>\n",
       "      <td>0</td>\n",
       "      <td>0</td>\n",
       "      <td>0</td>\n",
       "      <td>0</td>\n",
       "    </tr>\n",
       "    <tr>\n",
       "      <th>4</th>\n",
       "      <td>5324</td>\n",
       "      <td>1981</td>\n",
       "      <td>PhD</td>\n",
       "      <td>Married</td>\n",
       "      <td>58293.0</td>\n",
       "      <td>1</td>\n",
       "      <td>0</td>\n",
       "      <td>19/1/2014</td>\n",
       "      <td>94</td>\n",
       "      <td>173</td>\n",
       "      <td>...</td>\n",
       "      <td>3</td>\n",
       "      <td>6</td>\n",
       "      <td>5</td>\n",
       "      <td>0</td>\n",
       "      <td>0</td>\n",
       "      <td>0</td>\n",
       "      <td>0</td>\n",
       "      <td>0</td>\n",
       "      <td>0</td>\n",
       "      <td>0</td>\n",
       "    </tr>\n",
       "  </tbody>\n",
       "</table>\n",
       "<p>5 rows × 27 columns</p>\n",
       "</div>"
      ],
      "text/plain": [
       "     ID  Year_Birth   Education Material_Status   Income  Kidhome  Teenhome  \\\n",
       "0  5524        1957  Graduation          Single  58138.0        0         0   \n",
       "1  2174        1954  Graduation          Single  46344.0        1         1   \n",
       "2  4141        1965  Graduation        Together  71613.0        0         0   \n",
       "3  6182        1984  Graduation        Together  26646.0        1         0   \n",
       "4  5324        1981         PhD         Married  58293.0        1         0   \n",
       "\n",
       "  Dt_Customer  Recency  MntWines  ...  NumCatalogPurchases  NumStorePurchases  \\\n",
       "0    4/9/2012       58       635  ...                   10                  4   \n",
       "1    8/3/2014       38        11  ...                    1                  2   \n",
       "2    2/8/2013       26       426  ...                    2                 10   \n",
       "3   10/2/2014       26        11  ...                    0                  4   \n",
       "4   19/1/2014       94       173  ...                    3                  6   \n",
       "\n",
       "   NumWebVisitsMonth  AcceptedCmp3  AcceptedCmp4  AcceptedCmp5  AcceptedCmp1  \\\n",
       "0                  7             0             0             0             0   \n",
       "1                  5             0             0             0             0   \n",
       "2                  4             0             0             0             0   \n",
       "3                  6             0             0             0             0   \n",
       "4                  5             0             0             0             0   \n",
       "\n",
       "   AcceptedCmp2  Complain  Response  \n",
       "0             0         0         1  \n",
       "1             0         0         0  \n",
       "2             0         0         0  \n",
       "3             0         0         0  \n",
       "4             0         0         0  \n",
       "\n",
       "[5 rows x 27 columns]"
      ]
     },
     "execution_count": 15,
     "metadata": {},
     "output_type": "execute_result"
    }
   ],
   "source": [
    "#Droping unwanted coluns\n",
    "\n",
    "df1=df1.drop(columns=['Z_CostContact','Z_Revenue'],axis=1)\n",
    "\n",
    "df1.head()"
   ]
  },
  {
   "cell_type": "code",
   "execution_count": 16,
   "id": "37c647c6",
   "metadata": {},
   "outputs": [
    {
     "name": "stdout",
     "output_type": "stream",
     "text": [
      "Unique categories present in the Year_Birth: 1976    6\n",
      "1957    6\n",
      "1970    5\n",
      "1951    5\n",
      "1973    5\n",
      "1985    4\n",
      "1952    4\n",
      "1954    4\n",
      "1982    3\n",
      "1977    3\n",
      "1975    3\n",
      "1972    3\n",
      "1946    3\n",
      "1967    3\n",
      "1965    3\n",
      "1959    3\n",
      "1963    2\n",
      "1968    2\n",
      "1969    2\n",
      "1960    2\n",
      "1971    2\n",
      "1983    2\n",
      "1987    2\n",
      "1949    2\n",
      "1989    2\n",
      "1979    2\n",
      "1980    2\n",
      "1981    1\n",
      "1984    1\n",
      "1986    1\n",
      "1988    1\n",
      "1943    1\n",
      "1978    1\n",
      "1974    1\n",
      "1966    1\n",
      "1964    1\n",
      "1958    1\n",
      "1955    1\n",
      "1950    1\n",
      "1948    1\n",
      "1996    1\n",
      "Name: Year_Birth, dtype: int64\n"
     ]
    }
   ],
   "source": [
    "print(\"Unique categories present in the Year_Birth:\",df[\"Year_Birth\"].value_counts())\n"
   ]
  },
  {
   "cell_type": "markdown",
   "id": "73a10ef8",
   "metadata": {},
   "source": [
    "                    Analysis On Education Variable."
   ]
  },
  {
   "cell_type": "code",
   "execution_count": 17,
   "id": "dffd5684",
   "metadata": {},
   "outputs": [
    {
     "data": {
      "text/plain": [
       "array(['Graduation', 'PhD', 'Master', 'Basic', '2n Cycle'], dtype=object)"
      ]
     },
     "execution_count": 17,
     "metadata": {},
     "output_type": "execute_result"
    }
   ],
   "source": [
    "df1['Education'].unique()"
   ]
  },
  {
   "cell_type": "code",
   "execution_count": 18,
   "id": "3bd9a92d",
   "metadata": {},
   "outputs": [],
   "source": [
    "#CHANGING CATEGORY INTO \"UG\" AND \"PG\" ONLY....\n",
    "df1['Education']=df1['Education'].replace(['Graduation','PhD','Master'],'Post Graduate')\n",
    "df1['Education']=df1['Education'].replace(['Basic','2n Cycle'],'Under Graduate')"
   ]
  },
  {
   "cell_type": "code",
   "execution_count": 19,
   "id": "0fcfdad5",
   "metadata": {},
   "outputs": [
    {
     "data": {
      "text/plain": [
       "Post Graduate     90\n",
       "Under Graduate     9\n",
       "Name: Education, dtype: int64"
      ]
     },
     "execution_count": 19,
     "metadata": {},
     "output_type": "execute_result"
    }
   ],
   "source": [
    "df1['Education'].value_counts()"
   ]
  },
  {
   "cell_type": "code",
   "execution_count": 20,
   "id": "3de05ebf",
   "metadata": {},
   "outputs": [
    {
     "data": {
      "text/plain": [
       "Text(0, 0.5, 'Frequency')"
      ]
     },
     "execution_count": 20,
     "metadata": {},
     "output_type": "execute_result"
    },
    {
     "data": {
      "image/png": "[encoded data removed]",
      "text/plain": [
       "<Figure size 432x288 with 1 Axes>"
      ]
     },
     "metadata": {
      "needs_background": "light"
     },
     "output_type": "display_data"
    }
   ],
   "source": [
    "#Visualizing Education\n",
    "\n",
    "df1['Education'].value_counts().plot(kind='bar',color='blue')\n",
    "plt.title('Frequency of Each category in the Education Variable')\n",
    "plt.xlabel('Education')\n",
    "plt.ylabel('Frequency')"
   ]
  },
  {
   "cell_type": "markdown",
   "id": "50e46a54",
   "metadata": {},
   "source": [
    "OBSERVATIONS :-\n",
    "\n",
    "-90.91% of Customers in the dataset are \"Post Graduate\".\n",
    "\n",
    "-9.09% of Customers in the dataset are \"Under Graduate\"."
   ]
  },
  {
   "cell_type": "markdown",
   "id": "0d3c507d",
   "metadata": {},
   "source": [
    "                            Analysis On Marital_Status Variable."
   ]
  },
  {
   "cell_type": "code",
   "execution_count": 21,
   "id": "92532be7",
   "metadata": {},
   "outputs": [
    {
     "data": {
      "text/plain": [
       "array(['Single', 'Together', 'Married', 'Divorced', 'Widow'], dtype=object)"
      ]
     },
     "execution_count": 21,
     "metadata": {},
     "output_type": "execute_result"
    }
   ],
   "source": [
    "df1['Material_Status'].unique()\n"
   ]
  },
  {
   "cell_type": "code",
   "execution_count": 22,
   "id": "d0225cc7",
   "metadata": {},
   "outputs": [],
   "source": [
    "#Replacing Conflict value in Material_Status\n",
    "\n",
    "df1['Material_Status']=df1['Material_Status'].replace(['Together','Married'],'Relationship')\n",
    "df1['Material_Status']=df1['Material_Status'].replace(['Divorced','Widow'],'Single')"
   ]
  },
  {
   "cell_type": "code",
   "execution_count": 23,
   "id": "c035d08d",
   "metadata": {},
   "outputs": [
    {
     "data": {
      "text/plain": [
       "Relationship    63\n",
       "Single          36\n",
       "Name: Material_Status, dtype: int64"
      ]
     },
     "execution_count": 23,
     "metadata": {},
     "output_type": "execute_result"
    }
   ],
   "source": [
    "df1['Material_Status'].value_counts()"
   ]
  },
  {
   "cell_type": "code",
   "execution_count": 24,
   "id": "8318507f",
   "metadata": {},
   "outputs": [
    {
     "data": {
      "text/plain": [
       "Text(0, 0.5, 'Frequency')"
      ]
     },
     "execution_count": 24,
     "metadata": {},
     "output_type": "execute_result"
    },
    {
     "data": {
      "image/png": "[encoded data removed]",
      "text/plain": [
       "<Figure size 432x288 with 1 Axes>"
      ]
     },
     "metadata": {
      "needs_background": "light"
     },
     "output_type": "display_data"
    }
   ],
   "source": [
    "#Visualising Material Status\n",
    "\n",
    "df1['Material_Status'].value_counts().plot(kind='bar')\n",
    "plt.title('Frequency of Each Category in the marterial Status vailable')\n",
    "plt.xlabel('Material Staus')\n",
    "plt.ylabel('Frequency')"
   ]
  },
  {
   "cell_type": "markdown",
   "id": "0dc8639e",
   "metadata": {},
   "source": [
    "OBSERVATIONS :-\n",
    "\n",
    "-63.64% of Customers in the dataset are in \"Relationship\".\n",
    "\n",
    "-36.36% of Customers in the dataset are \"Single\"."
   ]
  },
  {
   "cell_type": "markdown",
   "id": "95bd4537",
   "metadata": {},
   "source": [
    "                            Analysis On Income Variable."
   ]
  },
  {
   "cell_type": "code",
   "execution_count": 25,
   "id": "db408755",
   "metadata": {},
   "outputs": [
    {
     "data": {
      "text/plain": [
       "count       99.000000\n",
       "mean     49492.955556\n",
       "std      21292.483534\n",
       "min       2447.000000\n",
       "25%      33633.000000\n",
       "50%      49492.955556\n",
       "75%      66822.000000\n",
       "max      88194.000000\n",
       "Name: Income, dtype: float64"
      ]
     },
     "execution_count": 25,
     "metadata": {},
     "output_type": "execute_result"
    }
   ],
   "source": [
    "#Checking Statistic of income\n",
    "df1['Income'].describe()        #Specially MIN,MAX,AVG"
   ]
  },
  {
   "cell_type": "code",
   "execution_count": 26,
   "id": "6d64ba74",
   "metadata": {},
   "outputs": [
    {
     "data": {
      "image/png": "[encoded data removed]",
      "text/plain": [
       "<Figure size 360x360 with 1 Axes>"
      ]
     },
     "metadata": {
      "needs_background": "light"
     },
     "output_type": "display_data"
    },
    {
     "data": {
      "image/png": "[encoded data removed]",
      "text/plain": [
       "<Figure size 576x360 with 1 Axes>"
      ]
     },
     "metadata": {
      "needs_background": "light"
     },
     "output_type": "display_data"
    }
   ],
   "source": [
    "#Visualizing Income level\n",
    "\n",
    "sns.displot(df1['Income'],color='blue')\n",
    "plt.show()\n",
    "\n",
    "df1['Income'].plot.box(figsize=(8,5))\n",
    "plt.show()"
   ]
  },
  {
   "cell_type": "markdown",
   "id": "9d13d360",
   "metadata": {},
   "source": [
    "                Analysis On \"Kidhome,Teenhome\" Variable."
   ]
  },
  {
   "cell_type": "code",
   "execution_count": 27,
   "id": "13471611",
   "metadata": {},
   "outputs": [],
   "source": [
    "# Combining different dataframe into a single column to reduce the number of dimension\n",
    "\n",
    "df1['Kids'] = df1['Kidhome'] + df1['Teenhome']"
   ]
  },
  {
   "cell_type": "code",
   "execution_count": 28,
   "id": "adb23bad",
   "metadata": {},
   "outputs": [
    {
     "data": {
      "text/plain": [
       "1    46\n",
       "0    34\n",
       "2    16\n",
       "3     3\n",
       "Name: Kids, dtype: int64"
      ]
     },
     "execution_count": 28,
     "metadata": {},
     "output_type": "execute_result"
    }
   ],
   "source": [
    "df1['Kids'].value_counts()"
   ]
  },
  {
   "cell_type": "code",
   "execution_count": 29,
   "id": "0a595f21",
   "metadata": {},
   "outputs": [
    {
     "data": {
      "text/plain": [
       "Text(0, 0.5, 'Frequency')"
      ]
     },
     "execution_count": 29,
     "metadata": {},
     "output_type": "execute_result"
    },
    {
     "data": {
      "image/png": "[encoded data removed]",
      "text/plain": [
       "<Figure size 432x288 with 1 Axes>"
      ]
     },
     "metadata": {
      "needs_background": "light"
     },
     "output_type": "display_data"
    }
   ],
   "source": [
    "#VISUALIZING THE \"Kids\"\n",
    "\n",
    "df1['Kids'].value_counts().plot(kind='bar')\n",
    "plt.title('Frequency of each Category in Kids Variable')\n",
    "plt.xlabel('No. of Kids')\n",
    "plt.ylabel('Frequency')"
   ]
  },
  {
   "cell_type": "markdown",
   "id": "429d4c2d",
   "metadata": {},
   "source": [
    "OBSERVATIONS :-\n",
    "\n",
    "-46.46% of Customers in the dataset have 1 kid.\n",
    "\n",
    "-34.34% of Customers in the dataset have no kids.\n",
    "\n",
    "-16.17% of Customers in the dataset have 2 kids.\n",
    "\n",
    "-3.03% of Customers in the dataset have 3 kids.\n",
    "\n"
   ]
  },
  {
   "cell_type": "markdown",
   "id": "c62a9ea2",
   "metadata": {},
   "source": [
    "Analysis On \"MntWines,MntMeatProducts,MntFishProducts,MntSweetProducts,MntGoldProds\" Variable."
   ]
  },
  {
   "cell_type": "code",
   "execution_count": 30,
   "id": "87d8cd76",
   "metadata": {},
   "outputs": [],
   "source": [
    "# Combining different dataframe into a single column to reduce the number of dimension\n",
    "\n",
    "df1['Expenses']=df1['MntWines']+df['MntFruits']+df1['MntMeatProducts']+df1['MntFishProducts']+df1['MntFSweetProducts']+df1['MntGoldProds']"
   ]
  },
  {
   "cell_type": "code",
   "execution_count": 31,
   "id": "ab27666a",
   "metadata": {},
   "outputs": [
    {
     "data": {
      "text/plain": [
       "0    1617\n",
       "1      27\n",
       "2     776\n",
       "3      53\n",
       "4     422\n",
       "Name: Expenses, dtype: int64"
      ]
     },
     "execution_count": 31,
     "metadata": {},
     "output_type": "execute_result"
    }
   ],
   "source": [
    "df1['Expenses'].head()"
   ]
  },
  {
   "cell_type": "code",
   "execution_count": 32,
   "id": "40eb9dc7",
   "metadata": {},
   "outputs": [
    {
     "data": {
      "text/plain": [
       "count      99.000000\n",
       "mean      562.000000\n",
       "std       580.635278\n",
       "min        11.000000\n",
       "25%        64.000000\n",
       "50%       318.000000\n",
       "75%       942.500000\n",
       "max      2209.000000\n",
       "Name: Expenses, dtype: float64"
      ]
     },
     "execution_count": 32,
     "metadata": {},
     "output_type": "execute_result"
    }
   ],
   "source": [
    "#Checking Statistic of Expenses\n",
    "\n",
    "df1['Expenses'].describe()      #Min,Max and Mean(Average)"
   ]
  },
  {
   "cell_type": "code",
   "execution_count": 60,
   "id": "ed2f7bcd",
   "metadata": {},
   "outputs": [
    {
     "data": {
      "image/png": "[encoded data removed]",
      "text/plain": [
       "<Figure size 360x360 with 1 Axes>"
      ]
     },
     "metadata": {
      "needs_background": "light"
     },
     "output_type": "display_data"
    },
    {
     "data": {
      "image/png": "[encoded data removed]",
      "text/plain": [
       "<Figure size 720x360 with 1 Axes>"
      ]
     },
     "metadata": {
      "needs_background": "light"
     },
     "output_type": "display_data"
    }
   ],
   "source": [
    "#Visualization of Expenses\n",
    "\n",
    "sns.displot(df1['Expenses'])\n",
    "plt.show()\n",
    "df1['Expenses'].plot.box(figsize=(10,5))\n",
    "plt.show()"
   ]
  },
  {
   "cell_type": "markdown",
   "id": "9fc0d3fd",
   "metadata": {},
   "source": [
    "Analysis on \"AcceptedCmp1,AcceptedCmp2,AcceptedCmp3,AcceptedCmp4,AcceptedCmp5\" Variable."
   ]
  },
  {
   "cell_type": "code",
   "execution_count": 34,
   "id": "4fd689f5",
   "metadata": {},
   "outputs": [],
   "source": [
    "#Combining all Accepted cmp\n",
    "\n",
    "df1['ToltaAcceptedcamp']=df1['AcceptedCmp1']+df1['AcceptedCmp2']+df1['AcceptedCmp3']+df1['AcceptedCmp4']+df1['AcceptedCmp5']"
   ]
  },
  {
   "cell_type": "code",
   "execution_count": 35,
   "id": "69fdebae",
   "metadata": {},
   "outputs": [
    {
     "data": {
      "text/plain": [
       "0    0\n",
       "1    0\n",
       "2    0\n",
       "3    0\n",
       "4    0\n",
       "5    0\n",
       "6    0\n",
       "7    0\n",
       "8    0\n",
       "9    1\n",
       "Name: ToltaAcceptedcamp, dtype: int64"
      ]
     },
     "execution_count": 35,
     "metadata": {},
     "output_type": "execute_result"
    }
   ],
   "source": [
    "df1['ToltaAcceptedcamp'].head(10)"
   ]
  },
  {
   "cell_type": "code",
   "execution_count": 36,
   "id": "ebb7d22c",
   "metadata": {},
   "outputs": [
    {
     "data": {
      "text/plain": [
       "0    80\n",
       "1    14\n",
       "2     5\n",
       "Name: ToltaAcceptedcamp, dtype: int64"
      ]
     },
     "execution_count": 36,
     "metadata": {},
     "output_type": "execute_result"
    }
   ],
   "source": [
    "#CHECKING NUMBER OF UNIQUE CATEGORIES PRESENT IN THE \"TotalAcceptedCmp\"\n",
    "\n",
    "df1['ToltaAcceptedcamp'].value_counts()"
   ]
  },
  {
   "cell_type": "code",
   "execution_count": 37,
   "id": "944f818e",
   "metadata": {},
   "outputs": [
    {
     "data": {
      "text/plain": [
       "Text(0.5, 1.0, 'Frequency of each category in the TotalAcceptedCamp')"
      ]
     },
     "execution_count": 37,
     "metadata": {},
     "output_type": "execute_result"
    },
    {
     "data": {
      "image/png": "[encoded data removed]",
      "text/plain": [
       "<Figure size 432x288 with 1 Axes>"
      ]
     },
     "metadata": {
      "needs_background": "light"
     },
     "output_type": "display_data"
    }
   ],
   "source": [
    "#VISUALIZING THE \"TotalAcceptedCmp\"\n",
    "\n",
    "df1['ToltaAcceptedcamp'].value_counts().plot(kind='bar')\n",
    "plt.title('Frequency of each category in the TotalAcceptedCamp')\n"
   ]
  },
  {
   "cell_type": "markdown",
   "id": "7fe4d9ec",
   "metadata": {},
   "source": [
    "OBSERVATIONS :-\n",
    "\n",
    "-80.81% of Customers accepted the offer in the campaign are \"0\".\n",
    "\n",
    "-14.14% of Customers accepted the offer in the campaign are \"1\".\n",
    "\n",
    "-5.05% of Customers accepted the offer in the campaign are \"2\""
   ]
  },
  {
   "cell_type": "markdown",
   "id": "9f938b85",
   "metadata": {},
   "source": [
    "Analysis on \"NumWebPurchases,NumCatalogPurchases,NumStorePurchases,NumDealsPurchases\" Variable."
   ]
  },
  {
   "cell_type": "code",
   "execution_count": 38,
   "id": "37f3f378",
   "metadata": {},
   "outputs": [],
   "source": [
    "df1['NumTotalPurchases'] = df1['NumWebPurchases'] + df1['NumCatalogPurchases'] + df1['NumStorePurchases'] + df1['NumDealsPurchases']\n"
   ]
  },
  {
   "cell_type": "code",
   "execution_count": 39,
   "id": "adb67c02",
   "metadata": {},
   "outputs": [
    {
     "data": {
      "text/plain": [
       "count    99.000000\n",
       "mean     15.050505\n",
       "std       8.459234\n",
       "min       2.000000\n",
       "25%       8.000000\n",
       "50%      15.000000\n",
       "75%      21.000000\n",
       "max      43.000000\n",
       "Name: NumTotalPurchases, dtype: float64"
      ]
     },
     "execution_count": 39,
     "metadata": {},
     "output_type": "execute_result"
    }
   ],
   "source": [
    "#Checking Min, Max and Mean of Purchase\n",
    "df1['NumTotalPurchases'].describe()"
   ]
  },
  {
   "cell_type": "code",
   "execution_count": 40,
   "id": "2fd0c3e1",
   "metadata": {},
   "outputs": [
    {
     "data": {
      "image/png": "[encoded data removed]",
      "text/plain": [
       "<Figure size 360x360 with 1 Axes>"
      ]
     },
     "metadata": {
      "needs_background": "light"
     },
     "output_type": "display_data"
    },
    {
     "data": {
      "image/png": "[encoded data removed]",
      "text/plain": [
       "<Figure size 648x360 with 1 Axes>"
      ]
     },
     "metadata": {
      "needs_background": "light"
     },
     "output_type": "display_data"
    }
   ],
   "source": [
    "#Visualization of Total Purchase\n",
    "\n",
    "sns.displot(df1['NumTotalPurchases'])\n",
    "plt.show()\n",
    "df1['NumTotalPurchases'].plot.box(figsize=(9,5))\n",
    "plt.show()"
   ]
  },
  {
   "cell_type": "code",
   "execution_count": 41,
   "id": "0caaed8f",
   "metadata": {},
   "outputs": [],
   "source": [
    "# Deleting some column to reduce dimension and complexity of model\n",
    "\n",
    "col_del = [\"AcceptedCmp1\" , \"AcceptedCmp2\", \"AcceptedCmp3\" , \"AcceptedCmp4\",\"AcceptedCmp5\",\"NumWebVisitsMonth\", \"NumWebPurchases\",\"NumCatalogPurchases\",\"NumStorePurchases\",\"NumDealsPurchases\" , \"Kidhome\", \"Teenhome\",\"MntWines\", \"MntFruits\", \"MntMeatProducts\", \"MntFishProducts\", \"MntFSweetProducts\", \"MntGoldProds\"]\n",
    "df1=df1.drop(columns=col_del,axis=1)"
   ]
  },
  {
   "cell_type": "code",
   "execution_count": 42,
   "id": "95863a6d",
   "metadata": {},
   "outputs": [
    {
     "data": {
      "text/html": [
       "<div>\n",
       "<style scoped>\n",
       "    .dataframe tbody tr th:only-of-type {\n",
       "        vertical-align: middle;\n",
       "    }\n",
       "\n",
       "    .dataframe tbody tr th {\n",
       "        vertical-align: top;\n",
       "    }\n",
       "\n",
       "    .dataframe thead th {\n",
       "        text-align: right;\n",
       "    }\n",
       "</style>\n",
       "<table border=\"1\" class=\"dataframe\">\n",
       "  <thead>\n",
       "    <tr style=\"text-align: right;\">\n",
       "      <th></th>\n",
       "      <th>ID</th>\n",
       "      <th>Year_Birth</th>\n",
       "      <th>Education</th>\n",
       "      <th>Material_Status</th>\n",
       "      <th>Income</th>\n",
       "      <th>Dt_Customer</th>\n",
       "      <th>Recency</th>\n",
       "      <th>Complain</th>\n",
       "      <th>Response</th>\n",
       "      <th>Kids</th>\n",
       "      <th>Expenses</th>\n",
       "      <th>ToltaAcceptedcamp</th>\n",
       "      <th>NumTotalPurchases</th>\n",
       "    </tr>\n",
       "  </thead>\n",
       "  <tbody>\n",
       "    <tr>\n",
       "      <th>0</th>\n",
       "      <td>5524</td>\n",
       "      <td>1957</td>\n",
       "      <td>Post Graduate</td>\n",
       "      <td>Single</td>\n",
       "      <td>58138.0</td>\n",
       "      <td>4/9/2012</td>\n",
       "      <td>58</td>\n",
       "      <td>0</td>\n",
       "      <td>1</td>\n",
       "      <td>0</td>\n",
       "      <td>1617</td>\n",
       "      <td>0</td>\n",
       "      <td>25</td>\n",
       "    </tr>\n",
       "    <tr>\n",
       "      <th>1</th>\n",
       "      <td>2174</td>\n",
       "      <td>1954</td>\n",
       "      <td>Post Graduate</td>\n",
       "      <td>Single</td>\n",
       "      <td>46344.0</td>\n",
       "      <td>8/3/2014</td>\n",
       "      <td>38</td>\n",
       "      <td>0</td>\n",
       "      <td>0</td>\n",
       "      <td>2</td>\n",
       "      <td>27</td>\n",
       "      <td>0</td>\n",
       "      <td>6</td>\n",
       "    </tr>\n",
       "    <tr>\n",
       "      <th>2</th>\n",
       "      <td>4141</td>\n",
       "      <td>1965</td>\n",
       "      <td>Post Graduate</td>\n",
       "      <td>Relationship</td>\n",
       "      <td>71613.0</td>\n",
       "      <td>2/8/2013</td>\n",
       "      <td>26</td>\n",
       "      <td>0</td>\n",
       "      <td>0</td>\n",
       "      <td>0</td>\n",
       "      <td>776</td>\n",
       "      <td>0</td>\n",
       "      <td>21</td>\n",
       "    </tr>\n",
       "    <tr>\n",
       "      <th>3</th>\n",
       "      <td>6182</td>\n",
       "      <td>1984</td>\n",
       "      <td>Post Graduate</td>\n",
       "      <td>Relationship</td>\n",
       "      <td>26646.0</td>\n",
       "      <td>10/2/2014</td>\n",
       "      <td>26</td>\n",
       "      <td>0</td>\n",
       "      <td>0</td>\n",
       "      <td>1</td>\n",
       "      <td>53</td>\n",
       "      <td>0</td>\n",
       "      <td>8</td>\n",
       "    </tr>\n",
       "    <tr>\n",
       "      <th>4</th>\n",
       "      <td>5324</td>\n",
       "      <td>1981</td>\n",
       "      <td>Post Graduate</td>\n",
       "      <td>Relationship</td>\n",
       "      <td>58293.0</td>\n",
       "      <td>19/1/2014</td>\n",
       "      <td>94</td>\n",
       "      <td>0</td>\n",
       "      <td>0</td>\n",
       "      <td>1</td>\n",
       "      <td>422</td>\n",
       "      <td>0</td>\n",
       "      <td>19</td>\n",
       "    </tr>\n",
       "    <tr>\n",
       "      <th>...</th>\n",
       "      <td>...</td>\n",
       "      <td>...</td>\n",
       "      <td>...</td>\n",
       "      <td>...</td>\n",
       "      <td>...</td>\n",
       "      <td>...</td>\n",
       "      <td>...</td>\n",
       "      <td>...</td>\n",
       "      <td>...</td>\n",
       "      <td>...</td>\n",
       "      <td>...</td>\n",
       "      <td>...</td>\n",
       "      <td>...</td>\n",
       "    </tr>\n",
       "    <tr>\n",
       "      <th>94</th>\n",
       "      <td>2230</td>\n",
       "      <td>1970</td>\n",
       "      <td>Post Graduate</td>\n",
       "      <td>Relationship</td>\n",
       "      <td>23626.0</td>\n",
       "      <td>24-05-2014</td>\n",
       "      <td>84</td>\n",
       "      <td>0</td>\n",
       "      <td>0</td>\n",
       "      <td>1</td>\n",
       "      <td>43</td>\n",
       "      <td>0</td>\n",
       "      <td>10</td>\n",
       "    </tr>\n",
       "    <tr>\n",
       "      <th>95</th>\n",
       "      <td>7516</td>\n",
       "      <td>1983</td>\n",
       "      <td>Post Graduate</td>\n",
       "      <td>Relationship</td>\n",
       "      <td>30096.0</td>\n",
       "      <td>22-05-2014</td>\n",
       "      <td>30</td>\n",
       "      <td>0</td>\n",
       "      <td>0</td>\n",
       "      <td>1</td>\n",
       "      <td>45</td>\n",
       "      <td>0</td>\n",
       "      <td>6</td>\n",
       "    </tr>\n",
       "    <tr>\n",
       "      <th>96</th>\n",
       "      <td>7247</td>\n",
       "      <td>1960</td>\n",
       "      <td>Post Graduate</td>\n",
       "      <td>Single</td>\n",
       "      <td>47916.0</td>\n",
       "      <td>22-11-2012</td>\n",
       "      <td>72</td>\n",
       "      <td>0</td>\n",
       "      <td>0</td>\n",
       "      <td>1</td>\n",
       "      <td>606</td>\n",
       "      <td>1</td>\n",
       "      <td>22</td>\n",
       "    </tr>\n",
       "    <tr>\n",
       "      <th>97</th>\n",
       "      <td>11100</td>\n",
       "      <td>1972</td>\n",
       "      <td>Post Graduate</td>\n",
       "      <td>Single</td>\n",
       "      <td>51813.0</td>\n",
       "      <td>11/4/2013</td>\n",
       "      <td>37</td>\n",
       "      <td>0</td>\n",
       "      <td>0</td>\n",
       "      <td>2</td>\n",
       "      <td>63</td>\n",
       "      <td>0</td>\n",
       "      <td>7</td>\n",
       "    </tr>\n",
       "    <tr>\n",
       "      <th>98</th>\n",
       "      <td>4646</td>\n",
       "      <td>1951</td>\n",
       "      <td>Under Graduate</td>\n",
       "      <td>Relationship</td>\n",
       "      <td>78497.0</td>\n",
       "      <td>1/12/2013</td>\n",
       "      <td>44</td>\n",
       "      <td>0</td>\n",
       "      <td>0</td>\n",
       "      <td>0</td>\n",
       "      <td>978</td>\n",
       "      <td>1</td>\n",
       "      <td>25</td>\n",
       "    </tr>\n",
       "  </tbody>\n",
       "</table>\n",
       "<p>99 rows × 13 columns</p>\n",
       "</div>"
      ],
      "text/plain": [
       "       ID  Year_Birth       Education Material_Status   Income Dt_Customer  \\\n",
       "0    5524        1957   Post Graduate          Single  58138.0    4/9/2012   \n",
       "1    2174        1954   Post Graduate          Single  46344.0    8/3/2014   \n",
       "2    4141        1965   Post Graduate    Relationship  71613.0    2/8/2013   \n",
       "3    6182        1984   Post Graduate    Relationship  26646.0   10/2/2014   \n",
       "4    5324        1981   Post Graduate    Relationship  58293.0   19/1/2014   \n",
       "..    ...         ...             ...             ...      ...         ...   \n",
       "94   2230        1970   Post Graduate    Relationship  23626.0  24-05-2014   \n",
       "95   7516        1983   Post Graduate    Relationship  30096.0  22-05-2014   \n",
       "96   7247        1960   Post Graduate          Single  47916.0  22-11-2012   \n",
       "97  11100        1972   Post Graduate          Single  51813.0   11/4/2013   \n",
       "98   4646        1951  Under Graduate    Relationship  78497.0   1/12/2013   \n",
       "\n",
       "    Recency  Complain  Response  Kids  Expenses  ToltaAcceptedcamp  \\\n",
       "0        58         0         1     0      1617                  0   \n",
       "1        38         0         0     2        27                  0   \n",
       "2        26         0         0     0       776                  0   \n",
       "3        26         0         0     1        53                  0   \n",
       "4        94         0         0     1       422                  0   \n",
       "..      ...       ...       ...   ...       ...                ...   \n",
       "94       84         0         0     1        43                  0   \n",
       "95       30         0         0     1        45                  0   \n",
       "96       72         0         0     1       606                  1   \n",
       "97       37         0         0     2        63                  0   \n",
       "98       44         0         0     0       978                  1   \n",
       "\n",
       "    NumTotalPurchases  \n",
       "0                  25  \n",
       "1                   6  \n",
       "2                  21  \n",
       "3                   8  \n",
       "4                  19  \n",
       "..                ...  \n",
       "94                 10  \n",
       "95                  6  \n",
       "96                 22  \n",
       "97                  7  \n",
       "98                 25  \n",
       "\n",
       "[99 rows x 13 columns]"
      ]
     },
     "execution_count": 42,
     "metadata": {},
     "output_type": "execute_result"
    }
   ],
   "source": [
    "df1"
   ]
  },
  {
   "cell_type": "code",
   "execution_count": 43,
   "id": "5886ff0d",
   "metadata": {},
   "outputs": [],
   "source": [
    "#NUMBER OF DAYS A CUSTOMER WAS ENGAGED WITH COMPANY. \n",
    "#CHANGING \"Dt_customer\" into timestamp format.\n",
    "\n",
    "df1['Dt_Customer'] = pd.to_datetime(df1.Dt_Customer)\n",
    "df1['First_day'] = '01-01-2015'\n",
    "df1['First_day'] = pd.to_datetime(df1.First_day)\n",
    "\n",
    "df1['Day_engaged'] = (df1['First_day'] - df1['Dt_Customer']).dt.days"
   ]
  },
  {
   "cell_type": "code",
   "execution_count": 44,
   "id": "2afe9e29",
   "metadata": {},
   "outputs": [
    {
     "data": {
      "text/html": [
       "<div>\n",
       "<style scoped>\n",
       "    .dataframe tbody tr th:only-of-type {\n",
       "        vertical-align: middle;\n",
       "    }\n",
       "\n",
       "    .dataframe tbody tr th {\n",
       "        vertical-align: top;\n",
       "    }\n",
       "\n",
       "    .dataframe thead th {\n",
       "        text-align: right;\n",
       "    }\n",
       "</style>\n",
       "<table border=\"1\" class=\"dataframe\">\n",
       "  <thead>\n",
       "    <tr style=\"text-align: right;\">\n",
       "      <th></th>\n",
       "      <th>ID</th>\n",
       "      <th>Year_Birth</th>\n",
       "      <th>Education</th>\n",
       "      <th>Material_Status</th>\n",
       "      <th>Income</th>\n",
       "      <th>Dt_Customer</th>\n",
       "      <th>Recency</th>\n",
       "      <th>Complain</th>\n",
       "      <th>Response</th>\n",
       "      <th>Kids</th>\n",
       "      <th>Expenses</th>\n",
       "      <th>ToltaAcceptedcamp</th>\n",
       "      <th>NumTotalPurchases</th>\n",
       "      <th>First_day</th>\n",
       "      <th>Day_engaged</th>\n",
       "    </tr>\n",
       "  </thead>\n",
       "  <tbody>\n",
       "    <tr>\n",
       "      <th>0</th>\n",
       "      <td>5524</td>\n",
       "      <td>1957</td>\n",
       "      <td>Post Graduate</td>\n",
       "      <td>Single</td>\n",
       "      <td>58138.0</td>\n",
       "      <td>2012-04-09</td>\n",
       "      <td>58</td>\n",
       "      <td>0</td>\n",
       "      <td>1</td>\n",
       "      <td>0</td>\n",
       "      <td>1617</td>\n",
       "      <td>0</td>\n",
       "      <td>25</td>\n",
       "      <td>2015-01-01</td>\n",
       "      <td>997</td>\n",
       "    </tr>\n",
       "    <tr>\n",
       "      <th>1</th>\n",
       "      <td>2174</td>\n",
       "      <td>1954</td>\n",
       "      <td>Post Graduate</td>\n",
       "      <td>Single</td>\n",
       "      <td>46344.0</td>\n",
       "      <td>2014-08-03</td>\n",
       "      <td>38</td>\n",
       "      <td>0</td>\n",
       "      <td>0</td>\n",
       "      <td>2</td>\n",
       "      <td>27</td>\n",
       "      <td>0</td>\n",
       "      <td>6</td>\n",
       "      <td>2015-01-01</td>\n",
       "      <td>151</td>\n",
       "    </tr>\n",
       "    <tr>\n",
       "      <th>2</th>\n",
       "      <td>4141</td>\n",
       "      <td>1965</td>\n",
       "      <td>Post Graduate</td>\n",
       "      <td>Relationship</td>\n",
       "      <td>71613.0</td>\n",
       "      <td>2013-02-08</td>\n",
       "      <td>26</td>\n",
       "      <td>0</td>\n",
       "      <td>0</td>\n",
       "      <td>0</td>\n",
       "      <td>776</td>\n",
       "      <td>0</td>\n",
       "      <td>21</td>\n",
       "      <td>2015-01-01</td>\n",
       "      <td>692</td>\n",
       "    </tr>\n",
       "    <tr>\n",
       "      <th>3</th>\n",
       "      <td>6182</td>\n",
       "      <td>1984</td>\n",
       "      <td>Post Graduate</td>\n",
       "      <td>Relationship</td>\n",
       "      <td>26646.0</td>\n",
       "      <td>2014-10-02</td>\n",
       "      <td>26</td>\n",
       "      <td>0</td>\n",
       "      <td>0</td>\n",
       "      <td>1</td>\n",
       "      <td>53</td>\n",
       "      <td>0</td>\n",
       "      <td>8</td>\n",
       "      <td>2015-01-01</td>\n",
       "      <td>91</td>\n",
       "    </tr>\n",
       "    <tr>\n",
       "      <th>4</th>\n",
       "      <td>5324</td>\n",
       "      <td>1981</td>\n",
       "      <td>Post Graduate</td>\n",
       "      <td>Relationship</td>\n",
       "      <td>58293.0</td>\n",
       "      <td>2014-01-19</td>\n",
       "      <td>94</td>\n",
       "      <td>0</td>\n",
       "      <td>0</td>\n",
       "      <td>1</td>\n",
       "      <td>422</td>\n",
       "      <td>0</td>\n",
       "      <td>19</td>\n",
       "      <td>2015-01-01</td>\n",
       "      <td>347</td>\n",
       "    </tr>\n",
       "  </tbody>\n",
       "</table>\n",
       "</div>"
      ],
      "text/plain": [
       "     ID  Year_Birth      Education Material_Status   Income Dt_Customer  \\\n",
       "0  5524        1957  Post Graduate          Single  58138.0  2012-04-09   \n",
       "1  2174        1954  Post Graduate          Single  46344.0  2014-08-03   \n",
       "2  4141        1965  Post Graduate    Relationship  71613.0  2013-02-08   \n",
       "3  6182        1984  Post Graduate    Relationship  26646.0  2014-10-02   \n",
       "4  5324        1981  Post Graduate    Relationship  58293.0  2014-01-19   \n",
       "\n",
       "   Recency  Complain  Response  Kids  Expenses  ToltaAcceptedcamp  \\\n",
       "0       58         0         1     0      1617                  0   \n",
       "1       38         0         0     2        27                  0   \n",
       "2       26         0         0     0       776                  0   \n",
       "3       26         0         0     1        53                  0   \n",
       "4       94         0         0     1       422                  0   \n",
       "\n",
       "   NumTotalPurchases  First_day  Day_engaged  \n",
       "0                 25 2015-01-01          997  \n",
       "1                  6 2015-01-01          151  \n",
       "2                 21 2015-01-01          692  \n",
       "3                  8 2015-01-01           91  \n",
       "4                 19 2015-01-01          347  "
      ]
     },
     "execution_count": 44,
     "metadata": {},
     "output_type": "execute_result"
    }
   ],
   "source": [
    "df1.head()"
   ]
  },
  {
   "cell_type": "code",
   "execution_count": 45,
   "id": "d85f0b7e",
   "metadata": {},
   "outputs": [
    {
     "data": {
      "text/plain": [
       "8    49\n",
       "9    26\n",
       "7    24\n",
       "Name: Age, dtype: int64"
      ]
     },
     "execution_count": 45,
     "metadata": {},
     "output_type": "execute_result"
    }
   ],
   "source": [
    "#ADDING A COLUMN \"Age\" IN THE DATAFRAME.\n",
    "df1['Age'] = (pd.Timestamp('now').year) - (pd.to_datetime(df1['Dt_Customer']).dt.year)\n",
    "\n",
    "#CHECKING NUMBER OF UNIQUE CATEGORIES PRESENT IN THE \"Age\"\n",
    "df1['Age'].value_counts()\n",
    "\n"
   ]
  },
  {
   "cell_type": "code",
   "execution_count": 46,
   "id": "81fbc48f",
   "metadata": {},
   "outputs": [
    {
     "data": {
      "text/plain": [
       "Text(0, 0.5, 'Frtequency')"
      ]
     },
     "execution_count": 46,
     "metadata": {},
     "output_type": "execute_result"
    },
    {
     "data": {
      "image/png": "[encoded data removed]",
      "text/plain": [
       "<Figure size 432x288 with 1 Axes>"
      ]
     },
     "metadata": {
      "needs_background": "light"
     },
     "output_type": "display_data"
    }
   ],
   "source": [
    "#Visualization of Age\n",
    "df1['Age'].value_counts().plot(kind='bar')\n",
    "plt.title('Frequency of Each Category in Age')\n",
    "plt.xlabel('Age')\n",
    "plt.ylabel('Frtequency')"
   ]
  },
  {
   "cell_type": "markdown",
   "id": "6fdeca8c",
   "metadata": {},
   "source": [
    "OBSERVATIONS :-\n",
    "\n",
    "-49.49% are 8 years old customers.\n",
    "\n",
    "-26.26% are 7 years old customers.\n",
    "\n",
    "-24.24% are 9 years old customers."
   ]
  },
  {
   "cell_type": "code",
   "execution_count": 47,
   "id": "9737ba7a",
   "metadata": {},
   "outputs": [
    {
     "data": {
      "text/html": [
       "<div>\n",
       "<style scoped>\n",
       "    .dataframe tbody tr th:only-of-type {\n",
       "        vertical-align: middle;\n",
       "    }\n",
       "\n",
       "    .dataframe tbody tr th {\n",
       "        vertical-align: top;\n",
       "    }\n",
       "\n",
       "    .dataframe thead th {\n",
       "        text-align: right;\n",
       "    }\n",
       "</style>\n",
       "<table border=\"1\" class=\"dataframe\">\n",
       "  <thead>\n",
       "    <tr style=\"text-align: right;\">\n",
       "      <th></th>\n",
       "      <th>ID</th>\n",
       "      <th>Year_Birth</th>\n",
       "      <th>Education</th>\n",
       "      <th>Material_Status</th>\n",
       "      <th>Income</th>\n",
       "      <th>Dt_Customer</th>\n",
       "      <th>Recency</th>\n",
       "      <th>Complain</th>\n",
       "      <th>Response</th>\n",
       "      <th>Kids</th>\n",
       "      <th>Expenses</th>\n",
       "      <th>ToltaAcceptedcamp</th>\n",
       "      <th>NumTotalPurchases</th>\n",
       "      <th>First_day</th>\n",
       "      <th>Day_engaged</th>\n",
       "      <th>Age</th>\n",
       "    </tr>\n",
       "  </thead>\n",
       "  <tbody>\n",
       "    <tr>\n",
       "      <th>0</th>\n",
       "      <td>5524</td>\n",
       "      <td>1957</td>\n",
       "      <td>Post Graduate</td>\n",
       "      <td>Single</td>\n",
       "      <td>58138.0</td>\n",
       "      <td>2012-04-09</td>\n",
       "      <td>58</td>\n",
       "      <td>0</td>\n",
       "      <td>1</td>\n",
       "      <td>0</td>\n",
       "      <td>1617</td>\n",
       "      <td>0</td>\n",
       "      <td>25</td>\n",
       "      <td>2015-01-01</td>\n",
       "      <td>997</td>\n",
       "      <td>9</td>\n",
       "    </tr>\n",
       "    <tr>\n",
       "      <th>1</th>\n",
       "      <td>2174</td>\n",
       "      <td>1954</td>\n",
       "      <td>Post Graduate</td>\n",
       "      <td>Single</td>\n",
       "      <td>46344.0</td>\n",
       "      <td>2014-08-03</td>\n",
       "      <td>38</td>\n",
       "      <td>0</td>\n",
       "      <td>0</td>\n",
       "      <td>2</td>\n",
       "      <td>27</td>\n",
       "      <td>0</td>\n",
       "      <td>6</td>\n",
       "      <td>2015-01-01</td>\n",
       "      <td>151</td>\n",
       "      <td>7</td>\n",
       "    </tr>\n",
       "    <tr>\n",
       "      <th>2</th>\n",
       "      <td>4141</td>\n",
       "      <td>1965</td>\n",
       "      <td>Post Graduate</td>\n",
       "      <td>Relationship</td>\n",
       "      <td>71613.0</td>\n",
       "      <td>2013-02-08</td>\n",
       "      <td>26</td>\n",
       "      <td>0</td>\n",
       "      <td>0</td>\n",
       "      <td>0</td>\n",
       "      <td>776</td>\n",
       "      <td>0</td>\n",
       "      <td>21</td>\n",
       "      <td>2015-01-01</td>\n",
       "      <td>692</td>\n",
       "      <td>8</td>\n",
       "    </tr>\n",
       "    <tr>\n",
       "      <th>3</th>\n",
       "      <td>6182</td>\n",
       "      <td>1984</td>\n",
       "      <td>Post Graduate</td>\n",
       "      <td>Relationship</td>\n",
       "      <td>26646.0</td>\n",
       "      <td>2014-10-02</td>\n",
       "      <td>26</td>\n",
       "      <td>0</td>\n",
       "      <td>0</td>\n",
       "      <td>1</td>\n",
       "      <td>53</td>\n",
       "      <td>0</td>\n",
       "      <td>8</td>\n",
       "      <td>2015-01-01</td>\n",
       "      <td>91</td>\n",
       "      <td>7</td>\n",
       "    </tr>\n",
       "    <tr>\n",
       "      <th>4</th>\n",
       "      <td>5324</td>\n",
       "      <td>1981</td>\n",
       "      <td>Post Graduate</td>\n",
       "      <td>Relationship</td>\n",
       "      <td>58293.0</td>\n",
       "      <td>2014-01-19</td>\n",
       "      <td>94</td>\n",
       "      <td>0</td>\n",
       "      <td>0</td>\n",
       "      <td>1</td>\n",
       "      <td>422</td>\n",
       "      <td>0</td>\n",
       "      <td>19</td>\n",
       "      <td>2015-01-01</td>\n",
       "      <td>347</td>\n",
       "      <td>7</td>\n",
       "    </tr>\n",
       "  </tbody>\n",
       "</table>\n",
       "</div>"
      ],
      "text/plain": [
       "     ID  Year_Birth      Education Material_Status   Income Dt_Customer  \\\n",
       "0  5524        1957  Post Graduate          Single  58138.0  2012-04-09   \n",
       "1  2174        1954  Post Graduate          Single  46344.0  2014-08-03   \n",
       "2  4141        1965  Post Graduate    Relationship  71613.0  2013-02-08   \n",
       "3  6182        1984  Post Graduate    Relationship  26646.0  2014-10-02   \n",
       "4  5324        1981  Post Graduate    Relationship  58293.0  2014-01-19   \n",
       "\n",
       "   Recency  Complain  Response  Kids  Expenses  ToltaAcceptedcamp  \\\n",
       "0       58         0         1     0      1617                  0   \n",
       "1       38         0         0     2        27                  0   \n",
       "2       26         0         0     0       776                  0   \n",
       "3       26         0         0     1        53                  0   \n",
       "4       94         0         0     1       422                  0   \n",
       "\n",
       "   NumTotalPurchases  First_day  Day_engaged  Age  \n",
       "0                 25 2015-01-01          997    9  \n",
       "1                  6 2015-01-01          151    7  \n",
       "2                 21 2015-01-01          692    8  \n",
       "3                  8 2015-01-01           91    7  \n",
       "4                 19 2015-01-01          347    7  "
      ]
     },
     "execution_count": 47,
     "metadata": {},
     "output_type": "execute_result"
    }
   ],
   "source": [
    "df1.head()"
   ]
  },
  {
   "cell_type": "code",
   "execution_count": 48,
   "id": "ed2aa950",
   "metadata": {},
   "outputs": [],
   "source": [
    "df1=df1.drop(columns=[\"Dt_Customer\", \"First_day\", \"Year_Birth\", \"Dt_Customer\" , \"Recency\", \"Complain\",\"Response\"],axis=1)\n"
   ]
  },
  {
   "cell_type": "code",
   "execution_count": 49,
   "id": "8e4048a4",
   "metadata": {},
   "outputs": [
    {
     "data": {
      "text/plain": [
       "(99, 10)"
      ]
     },
     "execution_count": 49,
     "metadata": {},
     "output_type": "execute_result"
    }
   ],
   "source": [
    "df1.shape"
   ]
  },
  {
   "cell_type": "code",
   "execution_count": 50,
   "id": "a1eda97d",
   "metadata": {},
   "outputs": [
    {
     "data": {
      "text/plain": [
       "<Figure size 720x720 with 0 Axes>"
      ]
     },
     "execution_count": 50,
     "metadata": {},
     "output_type": "execute_result"
    },
    {
     "data": {
      "image/png": "[encoded data removed]",
      "text/plain": [
       "<Figure size 432x288 with 2 Axes>"
      ]
     },
     "metadata": {
      "needs_background": "light"
     },
     "output_type": "display_data"
    },
    {
     "data": {
      "text/plain": [
       "<Figure size 720x720 with 0 Axes>"
      ]
     },
     "metadata": {},
     "output_type": "display_data"
    }
   ],
   "source": [
    "#Checking Correlation between Variables\n",
    "\n",
    "sns.heatmap(df1.corr(),annot=True)\n",
    "plt.figure(figsize=(10,10))"
   ]
  },
  {
   "cell_type": "markdown",
   "id": "747aa316",
   "metadata": {},
   "source": [
    "OBSERVATIONS :-\n",
    "\n",
    "-Highest coreelation between features is 0.9.\n",
    "-There is no countinous feature that has correlation with Expences below 0.12 and above 0.81\n",
    "-Day_engage and Age has lowest correlation with expenses 0.19 while NumTotalPurchase has higest corelation 0.81\n",
    "\n"
   ]
  },
  {
   "cell_type": "code",
   "execution_count": 51,
   "id": "4525d563",
   "metadata": {},
   "outputs": [
    {
     "name": "stdout",
     "output_type": "stream",
     "text": [
      "['Education', 'Material_Status']\n"
     ]
    }
   ],
   "source": [
    "cate=[]\n",
    "\n",
    "for i in df1.columns:\n",
    "    if (df1[i].dtypes==\"object\"):\n",
    "        cate.append(i)\n",
    "        \n",
    "print (cate)"
   ]
  },
  {
   "cell_type": "code",
   "execution_count": 52,
   "id": "d8174696",
   "metadata": {},
   "outputs": [],
   "source": [
    "#Applying Label Encoding \n",
    "\n",
    "from sklearn.preprocessing import LabelEncoder\n",
    "lab_encode=LabelEncoder()\n",
    "for i in cate:\n",
    "    df1[i]=df1[[i]].apply(lab_encode.fit_transform)"
   ]
  },
  {
   "cell_type": "code",
   "execution_count": 53,
   "id": "2dc9eabb",
   "metadata": {},
   "outputs": [],
   "source": [
    "#Standardizing Data\n",
    "\n",
    "from sklearn.preprocessing import StandardScaler\n",
    "std=StandardScaler().fit_transform(df1.values)\n",
    "std_df=pd.DataFrame(std,index=df1.index,columns=df1.columns)"
   ]
  },
  {
   "cell_type": "code",
   "execution_count": 54,
   "id": "a5de3b0f",
   "metadata": {},
   "outputs": [
    {
     "data": {
      "text/html": [
       "<div>\n",
       "<style scoped>\n",
       "    .dataframe tbody tr th:only-of-type {\n",
       "        vertical-align: middle;\n",
       "    }\n",
       "\n",
       "    .dataframe tbody tr th {\n",
       "        vertical-align: top;\n",
       "    }\n",
       "\n",
       "    .dataframe thead th {\n",
       "        text-align: right;\n",
       "    }\n",
       "</style>\n",
       "<table border=\"1\" class=\"dataframe\">\n",
       "  <thead>\n",
       "    <tr style=\"text-align: right;\">\n",
       "      <th></th>\n",
       "      <th>ID</th>\n",
       "      <th>Education</th>\n",
       "      <th>Material_Status</th>\n",
       "      <th>Income</th>\n",
       "      <th>Kids</th>\n",
       "      <th>Expenses</th>\n",
       "      <th>ToltaAcceptedcamp</th>\n",
       "      <th>NumTotalPurchases</th>\n",
       "      <th>Day_engaged</th>\n",
       "      <th>Age</th>\n",
       "    </tr>\n",
       "  </thead>\n",
       "  <tbody>\n",
       "    <tr>\n",
       "      <th>0</th>\n",
       "      <td>0.029961</td>\n",
       "      <td>-0.316228</td>\n",
       "      <td>1.322876</td>\n",
       "      <td>0.408080</td>\n",
       "      <td>-1.123727</td>\n",
       "      <td>1.826222</td>\n",
       "      <td>-0.454369</td>\n",
       "      <td>1.182155</td>\n",
       "      <td>1.892845</td>\n",
       "      <td>1.379255</td>\n",
       "    </tr>\n",
       "    <tr>\n",
       "      <th>1</th>\n",
       "      <td>-1.048345</td>\n",
       "      <td>-0.316228</td>\n",
       "      <td>1.322876</td>\n",
       "      <td>-0.148643</td>\n",
       "      <td>1.433721</td>\n",
       "      <td>-0.926094</td>\n",
       "      <td>-0.454369</td>\n",
       "      <td>-1.075341</td>\n",
       "      <td>-1.635999</td>\n",
       "      <td>-1.436132</td>\n",
       "    </tr>\n",
       "    <tr>\n",
       "      <th>2</th>\n",
       "      <td>-0.415202</td>\n",
       "      <td>-0.316228</td>\n",
       "      <td>-0.755929</td>\n",
       "      <td>1.044153</td>\n",
       "      <td>-1.123727</td>\n",
       "      <td>0.370437</td>\n",
       "      <td>-0.454369</td>\n",
       "      <td>0.706893</td>\n",
       "      <td>0.620626</td>\n",
       "      <td>-0.028438</td>\n",
       "    </tr>\n",
       "    <tr>\n",
       "      <th>3</th>\n",
       "      <td>0.241760</td>\n",
       "      <td>-0.316228</td>\n",
       "      <td>-0.755929</td>\n",
       "      <td>-1.078466</td>\n",
       "      <td>0.154997</td>\n",
       "      <td>-0.881087</td>\n",
       "      <td>-0.454369</td>\n",
       "      <td>-0.837710</td>\n",
       "      <td>-1.886272</td>\n",
       "      <td>-1.436132</td>\n",
       "    </tr>\n",
       "    <tr>\n",
       "      <th>4</th>\n",
       "      <td>-0.034415</td>\n",
       "      <td>-0.316228</td>\n",
       "      <td>-0.755929</td>\n",
       "      <td>0.415397</td>\n",
       "      <td>0.154997</td>\n",
       "      <td>-0.242342</td>\n",
       "      <td>-0.454369</td>\n",
       "      <td>0.469262</td>\n",
       "      <td>-0.818442</td>\n",
       "      <td>-1.436132</td>\n",
       "    </tr>\n",
       "  </tbody>\n",
       "</table>\n",
       "</div>"
      ],
      "text/plain": [
       "         ID  Education  Material_Status    Income      Kids  Expenses  \\\n",
       "0  0.029961  -0.316228         1.322876  0.408080 -1.123727  1.826222   \n",
       "1 -1.048345  -0.316228         1.322876 -0.148643  1.433721 -0.926094   \n",
       "2 -0.415202  -0.316228        -0.755929  1.044153 -1.123727  0.370437   \n",
       "3  0.241760  -0.316228        -0.755929 -1.078466  0.154997 -0.881087   \n",
       "4 -0.034415  -0.316228        -0.755929  0.415397  0.154997 -0.242342   \n",
       "\n",
       "   ToltaAcceptedcamp  NumTotalPurchases  Day_engaged       Age  \n",
       "0          -0.454369           1.182155     1.892845  1.379255  \n",
       "1          -0.454369          -1.075341    -1.635999 -1.436132  \n",
       "2          -0.454369           0.706893     0.620626 -0.028438  \n",
       "3          -0.454369          -0.837710    -1.886272 -1.436132  \n",
       "4          -0.454369           0.469262    -0.818442 -1.436132  "
      ]
     },
     "execution_count": 54,
     "metadata": {},
     "output_type": "execute_result"
    }
   ],
   "source": [
    "std_df.head()"
   ]
  },
  {
   "cell_type": "code",
   "execution_count": 55,
   "id": "9a239ea4",
   "metadata": {},
   "outputs": [],
   "source": [
    "#Extracting X with Income and Expenses\n",
    "X=std_df.iloc[:,[3,5]].values     #Converting into array"
   ]
  },
  {
   "cell_type": "markdown",
   "id": "2ef2fa97",
   "metadata": {},
   "source": [
    "# ELBOW METHOD-FINDING NO. OF CLUSTER"
   ]
  },
  {
   "cell_type": "code",
   "execution_count": 56,
   "id": "90078161",
   "metadata": {},
   "outputs": [
    {
     "name": "stderr",
     "output_type": "stream",
     "text": [
      "C:\\Users\\LENOVO\\anaconda3\\lib\\site-packages\\sklearn\\cluster\\_kmeans.py:881: UserWarning: KMeans is known to have a memory leak on Windows with MKL, when there are less chunks than available threads. You can avoid it by setting the environment variable OMP_NUM_THREADS=1.\n",
      "  warnings.warn(\n"
     ]
    },
    {
     "data": {
      "image/png": "[encoded data removed]",
      "text/plain": [
       "<Figure size 432x288 with 1 Axes>"
      ]
     },
     "metadata": {
      "needs_background": "light"
     },
     "output_type": "display_data"
    }
   ],
   "source": [
    "from sklearn.cluster import KMeans\n",
    "wcss = []\n",
    "for i in range(1, 18):\n",
    "    kmeans = KMeans(n_clusters = i, init = 'k-means++', random_state = 50)\n",
    "    kmeans.fit(X)\n",
    "    wcss.append(kmeans.inertia_)\n",
    "plt.plot(range(1, 18), wcss,color = \"mediumblue\",marker = '*')\n",
    "plt.title('The Elbow Method')\n",
    "plt.xlabel('Number of clusters')\n",
    "plt.ylabel('WCSS')\n",
    "plt.show()"
   ]
  },
  {
   "cell_type": "markdown",
   "id": "39344d89",
   "metadata": {},
   "source": [
    "# KMeans Clustering"
   ]
  },
  {
   "cell_type": "code",
   "execution_count": 57,
   "id": "8a5edecd",
   "metadata": {},
   "outputs": [],
   "source": [
    "# Fitting K-Means to the dataset\n",
    "kmeans = KMeans(n_clusters = 2, init = 'k-means++', random_state = 50)\n",
    "y_kmeans = kmeans.fit_predict(X)\n"
   ]
  },
  {
   "cell_type": "code",
   "execution_count": 59,
   "id": "19130744",
   "metadata": {},
   "outputs": [
    {
     "data": {
      "image/png": "[encoded data removed]",
      "text/plain": [
       "<Figure size 720x432 with 1 Axes>"
      ]
     },
     "metadata": {
      "needs_background": "light"
     },
     "output_type": "display_data"
    }
   ],
   "source": [
    "# Visualising the clusters\n",
    "plt.figure(figsize= (10,6))\n",
    "plt.scatter(X[y_kmeans == 0, 0], X[y_kmeans == 0, 1], s = 25, c = 'mediumblue', label = 'Sensible Customers')\n",
    "plt.scatter(X[y_kmeans == 1, 0], X[y_kmeans == 1, 1], s = 25, c = 'lawngreen', label = 'Careless Customers')\n",
    "plt.scatter(kmeans.cluster_centers_[:, 0], kmeans.cluster_centers_[:, 1], s = 55, c = 'black', label = 'Centroids')\n",
    "plt.title('Clusters of customers',fontsize = 15)\n",
    "plt.xlabel('Income',fontsize = 10)\n",
    "plt.ylabel('Expenses',fontsize = 10)\n",
    "plt.legend(fontsize = 10)\n",
    "plt.show()\n"
   ]
  },
  {
   "cell_type": "markdown",
   "id": "e8b120ce",
   "metadata": {},
   "source": [
    "OBSERVATIONS :-\n",
    "\n",
    "-Customer who has Low income and Low Expenses are Sensible customers.\n",
    "\n",
    "-Customer who has Low income and High Expenses are Careless customers."
   ]
  },
  {
   "cell_type": "markdown",
   "id": "3eea6c0a",
   "metadata": {},
   "source": [
    "# OVERALL SUMMARY"
   ]
  },
  {
   "cell_type": "markdown",
   "id": "205979d5",
   "metadata": {},
   "source": [
    "* The highest Birth rate of customers is 6.\n",
    "* 90.91% of the customers are \"Post graduated\"\n",
    "* More than half of the customers are in a relationship - 63.64%.\n",
    "* Minimum Expenses - 11.\n",
    "* Maximum Expenses - 2209.\n",
    "* Mean Expenses - 562.\n",
    "* 80.81% of the customers who accepted the offer in the campaign is 0.\n",
    "* Minimum NumTotalPurchases - 2.\n",
    "* Maximum NumTotalPurchases - 43.\n",
    "* Mean NumTotalPurchases - 15.05.\n",
    "* More than half are 8 years old customers.\n",
    "* Minimum Income - 2447.\n",
    "* Maximum Income - 88194.\n",
    "* Mean Income - 49492.95."
   ]
  }
 ],
 "metadata": {
  "kernelspec": {
   "display_name": "Python 3",
   "language": "python",
   "name": "python3"
  },
  "language_info": {
   "codemirror_mode": {
    "name": "ipython",
    "version": 3
   },
   "file_extension": ".py",
   "mimetype": "text/x-python",
   "name": "python",
   "nbconvert_exporter": "python",
   "pygments_lexer": "ipython3",
   "version": "3.8.8"
  }
 },
 "nbformat": 4,
 "nbformat_minor": 5
}
